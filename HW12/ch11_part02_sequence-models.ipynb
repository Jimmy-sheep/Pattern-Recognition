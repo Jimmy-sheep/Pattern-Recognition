{
  "cells": [
    {
      "cell_type": "markdown",
      "metadata": {
        "id": "hbZQr65T5akw"
      },
      "source": [
        "This is a companion notebook for the book [Deep Learning with Python, Second Edition](https://www.manning.com/books/deep-learning-with-python-second-edition?a_aid=keras&a_bid=76564dff). For readability, it only contains runnable code blocks and section titles, and omits everything else in the book: text paragraphs, figures, and pseudocode.\n",
        "\n",
        "**If you want to be able to follow what's going on, I recommend reading the notebook side by side with your copy of the book.**\n",
        "\n",
        "This notebook was generated for TensorFlow 2.6."
      ]
    },
    {
      "cell_type": "markdown",
      "metadata": {
        "id": "nQVqmKBa5ak3"
      },
      "source": [
        "### Processing words as a sequence: The sequence model approach"
      ]
    },
    {
      "cell_type": "markdown",
      "metadata": {
        "id": "NG-7BndS5ak4"
      },
      "source": [
        "#### A first practical example"
      ]
    },
    {
      "cell_type": "markdown",
      "metadata": {
        "id": "HWO_cXuE5ak4"
      },
      "source": [
        "**Downloading the data**"
      ]
    },
    {
      "cell_type": "code",
      "execution_count": 1,
      "metadata": {
        "colab": {
          "base_uri": "https://localhost:8080/"
        },
        "id": "TGuq-qm15ak5",
        "outputId": "f617727a-e57f-46c0-8656-74dc67ab328d"
      },
      "outputs": [
        {
          "output_type": "stream",
          "name": "stdout",
          "text": [
            "  % Total    % Received % Xferd  Average Speed   Time    Time     Time  Current\n",
            "                                 Dload  Upload   Total   Spent    Left  Speed\n",
            "100 80.2M  100 80.2M    0     0  10.5M      0  0:00:07  0:00:07 --:--:-- 17.4M\n"
          ]
        }
      ],
      "source": [
        "!curl -O https://ai.stanford.edu/~amaas/data/sentiment/aclImdb_v1.tar.gz\n",
        "!tar -xf aclImdb_v1.tar.gz\n",
        "!rm -r aclImdb/train/unsup"
      ]
    },
    {
      "cell_type": "markdown",
      "metadata": {
        "id": "kEBRhIJD5ak6"
      },
      "source": [
        "**Preparing the data**"
      ]
    },
    {
      "cell_type": "code",
      "execution_count": 2,
      "metadata": {
        "colab": {
          "base_uri": "https://localhost:8080/"
        },
        "id": "gUVUoMUp5ak6",
        "outputId": "e2107f16-4106-4a95-a79d-04d856d37fbd"
      },
      "outputs": [
        {
          "output_type": "stream",
          "name": "stdout",
          "text": [
            "Found 20000 files belonging to 2 classes.\n",
            "Found 5000 files belonging to 2 classes.\n",
            "Found 25000 files belonging to 2 classes.\n"
          ]
        }
      ],
      "source": [
        "import os, pathlib, shutil, random\n",
        "from tensorflow import keras\n",
        "batch_size = 32\n",
        "base_dir = pathlib.Path(\"aclImdb\")\n",
        "val_dir = base_dir / \"val\"\n",
        "train_dir = base_dir / \"train\"\n",
        "for category in (\"neg\", \"pos\"):\n",
        "    os.makedirs(val_dir / category)\n",
        "    files = os.listdir(train_dir / category)\n",
        "    random.Random(1337).shuffle(files)\n",
        "    num_val_samples = int(0.2 * len(files))\n",
        "    val_files = files[-num_val_samples:]\n",
        "    for fname in val_files:\n",
        "        shutil.move(train_dir / category / fname,\n",
        "                    val_dir / category / fname)\n",
        "\n",
        "train_ds = keras.utils.text_dataset_from_directory(\n",
        "    \"aclImdb/train\", batch_size=batch_size\n",
        ")\n",
        "val_ds = keras.utils.text_dataset_from_directory(\n",
        "    \"aclImdb/val\", batch_size=batch_size\n",
        ")\n",
        "test_ds = keras.utils.text_dataset_from_directory(\n",
        "    \"aclImdb/test\", batch_size=batch_size\n",
        ")\n",
        "text_only_train_ds = train_ds.map(lambda x, y: x)"
      ]
    },
    {
      "cell_type": "markdown",
      "metadata": {
        "id": "IUnpael25ak7"
      },
      "source": [
        "**Preparing integer sequence datasets**"
      ]
    },
    {
      "cell_type": "code",
      "execution_count": 3,
      "metadata": {
        "id": "q0iCv7GQ5ak7"
      },
      "outputs": [],
      "source": [
        "from tensorflow.keras import layers\n",
        "\n",
        "max_length = 600\n",
        "max_tokens = 20000\n",
        "text_vectorization = layers.TextVectorization(\n",
        "    max_tokens=max_tokens,\n",
        "    output_mode=\"int\",\n",
        "    output_sequence_length=max_length,\n",
        ")\n",
        "text_vectorization.adapt(text_only_train_ds)\n",
        "\n",
        "int_train_ds = train_ds.map(\n",
        "    lambda x, y: (text_vectorization(x), y),\n",
        "    num_parallel_calls=4)\n",
        "int_val_ds = val_ds.map(\n",
        "    lambda x, y: (text_vectorization(x), y),\n",
        "    num_parallel_calls=4)\n",
        "int_test_ds = test_ds.map(\n",
        "    lambda x, y: (text_vectorization(x), y),\n",
        "    num_parallel_calls=4)"
      ]
    },
    {
      "cell_type": "markdown",
      "metadata": {
        "id": "k-ilkK4d5ak8"
      },
      "source": [
        "**A sequence model built on one-hot encoded vector sequences**"
      ]
    },
    {
      "cell_type": "code",
      "execution_count": 4,
      "metadata": {
        "colab": {
          "base_uri": "https://localhost:8080/"
        },
        "id": "oWsqA7495ak8",
        "outputId": "3a9607a1-e027-4a65-ecf6-2a2953f5d070"
      },
      "outputs": [
        {
          "output_type": "stream",
          "name": "stdout",
          "text": [
            "Model: \"model\"\n",
            "_________________________________________________________________\n",
            " Layer (type)                Output Shape              Param #   \n",
            "=================================================================\n",
            " input_1 (InputLayer)        [(None, None)]            0         \n",
            "                                                                 \n",
            " tf.one_hot (TFOpLambda)     (None, None, 20000)       0         \n",
            "                                                                 \n",
            " bidirectional (Bidirectiona  (None, 64)               5128448   \n",
            " l)                                                              \n",
            "                                                                 \n",
            " dropout (Dropout)           (None, 64)                0         \n",
            "                                                                 \n",
            " dense (Dense)               (None, 1)                 65        \n",
            "                                                                 \n",
            "=================================================================\n",
            "Total params: 5,128,513\n",
            "Trainable params: 5,128,513\n",
            "Non-trainable params: 0\n",
            "_________________________________________________________________\n"
          ]
        }
      ],
      "source": [
        "import tensorflow as tf\n",
        "inputs = keras.Input(shape=(None,), dtype=\"int64\")\n",
        "embedded = tf.one_hot(inputs, depth=max_tokens)\n",
        "x = layers.Bidirectional(layers.LSTM(32))(embedded)\n",
        "x = layers.Dropout(0.5)(x)\n",
        "outputs = layers.Dense(1, activation=\"sigmoid\")(x)\n",
        "model = keras.Model(inputs, outputs)\n",
        "model.compile(optimizer=\"rmsprop\",\n",
        "              loss=\"binary_crossentropy\",\n",
        "              metrics=[\"accuracy\"])\n",
        "model.summary()"
      ]
    },
    {
      "cell_type": "markdown",
      "metadata": {
        "id": "FFS1P4d95ak9"
      },
      "source": [
        "**Training a first basic sequence model**"
      ]
    },
    {
      "cell_type": "code",
      "execution_count": 5,
      "metadata": {
        "colab": {
          "base_uri": "https://localhost:8080/"
        },
        "id": "L7DsKLUA5ak9",
        "outputId": "fb597c50-34a4-411a-ee3e-ca9ed07866ce"
      },
      "outputs": [
        {
          "output_type": "stream",
          "name": "stdout",
          "text": [
            "Epoch 1/10\n",
            "625/625 [==============================] - 179s 274ms/step - loss: 0.5148 - accuracy: 0.7552 - val_loss: 0.3646 - val_accuracy: 0.8596\n",
            "Epoch 2/10\n",
            "625/625 [==============================] - 172s 275ms/step - loss: 0.3354 - accuracy: 0.8809 - val_loss: 0.6797 - val_accuracy: 0.7446\n",
            "Epoch 3/10\n",
            "625/625 [==============================] - 172s 275ms/step - loss: 0.2710 - accuracy: 0.9047 - val_loss: 0.4133 - val_accuracy: 0.8698\n",
            "Epoch 4/10\n",
            "625/625 [==============================] - 172s 276ms/step - loss: 0.2259 - accuracy: 0.9232 - val_loss: 0.3011 - val_accuracy: 0.8894\n",
            "Epoch 5/10\n",
            "625/625 [==============================] - 172s 276ms/step - loss: 0.2078 - accuracy: 0.9300 - val_loss: 0.2959 - val_accuracy: 0.8938\n",
            "Epoch 6/10\n",
            "625/625 [==============================] - 172s 275ms/step - loss: 0.1856 - accuracy: 0.9368 - val_loss: 0.3021 - val_accuracy: 0.8884\n",
            "Epoch 7/10\n",
            "625/625 [==============================] - 172s 275ms/step - loss: 0.1650 - accuracy: 0.9449 - val_loss: 0.3105 - val_accuracy: 0.8866\n",
            "Epoch 8/10\n",
            "625/625 [==============================] - 173s 276ms/step - loss: 0.1478 - accuracy: 0.9515 - val_loss: 0.3028 - val_accuracy: 0.8928\n",
            "Epoch 9/10\n",
            "625/625 [==============================] - 173s 276ms/step - loss: 0.1386 - accuracy: 0.9565 - val_loss: 0.3186 - val_accuracy: 0.8838\n",
            "Epoch 10/10\n",
            "625/625 [==============================] - 173s 276ms/step - loss: 0.1232 - accuracy: 0.9612 - val_loss: 0.3540 - val_accuracy: 0.8800\n",
            "782/782 [==============================] - 103s 131ms/step - loss: 0.3232 - accuracy: 0.8748\n",
            "Test acc: 0.875\n"
          ]
        }
      ],
      "source": [
        "callbacks = [\n",
        "    keras.callbacks.ModelCheckpoint(\"one_hot_bidir_lstm.keras\",\n",
        "                                    save_best_only=True)\n",
        "]\n",
        "model.fit(int_train_ds, validation_data=int_val_ds, epochs=10, callbacks=callbacks)\n",
        "model = keras.models.load_model(\"one_hot_bidir_lstm.keras\")\n",
        "print(f\"Test acc: {model.evaluate(int_test_ds)[1]:.3f}\")"
      ]
    },
    {
      "cell_type": "markdown",
      "metadata": {
        "id": "m5AAoeRD5ak9"
      },
      "source": [
        "#### Understanding word embeddings"
      ]
    },
    {
      "cell_type": "markdown",
      "metadata": {
        "id": "_LdgIUB45ak-"
      },
      "source": [
        "#### Learning word embeddings with the Embedding layer"
      ]
    },
    {
      "cell_type": "markdown",
      "metadata": {
        "id": "4_dJ41hV5ak-"
      },
      "source": [
        "**Instantiating an `Embedding` layer**"
      ]
    },
    {
      "cell_type": "code",
      "execution_count": 6,
      "metadata": {
        "id": "cK_wGWu25ak-"
      },
      "outputs": [],
      "source": [
        "embedding_layer = layers.Embedding(input_dim=max_tokens, output_dim=256)"
      ]
    },
    {
      "cell_type": "markdown",
      "metadata": {
        "id": "KnDN-_bl5ak-"
      },
      "source": [
        "**Model that uses an `Embedding` layer trained from scratch**"
      ]
    },
    {
      "cell_type": "code",
      "execution_count": 7,
      "metadata": {
        "colab": {
          "base_uri": "https://localhost:8080/"
        },
        "id": "GWeGn0uL5ak_",
        "outputId": "60ec2207-8e20-45b3-ac71-45a757a9f322"
      },
      "outputs": [
        {
          "output_type": "stream",
          "name": "stdout",
          "text": [
            "Model: \"model_1\"\n",
            "_________________________________________________________________\n",
            " Layer (type)                Output Shape              Param #   \n",
            "=================================================================\n",
            " input_2 (InputLayer)        [(None, None)]            0         \n",
            "                                                                 \n",
            " embedding_1 (Embedding)     (None, None, 256)         5120000   \n",
            "                                                                 \n",
            " bidirectional_1 (Bidirectio  (None, 64)               73984     \n",
            " nal)                                                            \n",
            "                                                                 \n",
            " dropout_1 (Dropout)         (None, 64)                0         \n",
            "                                                                 \n",
            " dense_1 (Dense)             (None, 1)                 65        \n",
            "                                                                 \n",
            "=================================================================\n",
            "Total params: 5,194,049\n",
            "Trainable params: 5,194,049\n",
            "Non-trainable params: 0\n",
            "_________________________________________________________________\n",
            "Epoch 1/10\n",
            "625/625 [==============================] - 41s 60ms/step - loss: 0.4615 - accuracy: 0.7894 - val_loss: 0.4259 - val_accuracy: 0.8090\n",
            "Epoch 2/10\n",
            "625/625 [==============================] - 38s 60ms/step - loss: 0.3096 - accuracy: 0.8874 - val_loss: 0.3138 - val_accuracy: 0.8798\n",
            "Epoch 3/10\n",
            "625/625 [==============================] - 38s 60ms/step - loss: 0.2445 - accuracy: 0.9122 - val_loss: 0.3065 - val_accuracy: 0.8894\n",
            "Epoch 4/10\n",
            "625/625 [==============================] - 38s 61ms/step - loss: 0.2103 - accuracy: 0.9280 - val_loss: 0.3266 - val_accuracy: 0.8804\n",
            "Epoch 5/10\n",
            "625/625 [==============================] - 39s 62ms/step - loss: 0.1781 - accuracy: 0.9397 - val_loss: 0.3391 - val_accuracy: 0.8868\n",
            "Epoch 6/10\n",
            "625/625 [==============================] - 36s 58ms/step - loss: 0.1503 - accuracy: 0.9504 - val_loss: 0.3380 - val_accuracy: 0.8838\n",
            "Epoch 7/10\n",
            "625/625 [==============================] - 38s 60ms/step - loss: 0.1277 - accuracy: 0.9575 - val_loss: 0.3832 - val_accuracy: 0.8916\n",
            "Epoch 8/10\n",
            "625/625 [==============================] - 38s 61ms/step - loss: 0.1069 - accuracy: 0.9657 - val_loss: 0.3649 - val_accuracy: 0.8846\n",
            "Epoch 9/10\n",
            "625/625 [==============================] - 38s 61ms/step - loss: 0.0921 - accuracy: 0.9725 - val_loss: 0.3589 - val_accuracy: 0.8768\n",
            "Epoch 10/10\n",
            "625/625 [==============================] - 38s 61ms/step - loss: 0.0701 - accuracy: 0.9788 - val_loss: 0.4766 - val_accuracy: 0.8840\n",
            "782/782 [==============================] - 27s 33ms/step - loss: 0.3620 - accuracy: 0.8637\n",
            "Test acc: 0.864\n"
          ]
        }
      ],
      "source": [
        "inputs = keras.Input(shape=(None,), dtype=\"int64\")\n",
        "embedded = layers.Embedding(input_dim=max_tokens, output_dim=256)(inputs)\n",
        "x = layers.Bidirectional(layers.LSTM(32))(embedded)\n",
        "x = layers.Dropout(0.5)(x)\n",
        "outputs = layers.Dense(1, activation=\"sigmoid\")(x)\n",
        "model = keras.Model(inputs, outputs)\n",
        "model.compile(optimizer=\"rmsprop\",\n",
        "              loss=\"binary_crossentropy\",\n",
        "              metrics=[\"accuracy\"])\n",
        "model.summary()\n",
        "\n",
        "callbacks = [\n",
        "    keras.callbacks.ModelCheckpoint(\"embeddings_bidir_gru.keras\",\n",
        "                                    save_best_only=True)\n",
        "]\n",
        "model.fit(int_train_ds, validation_data=int_val_ds, epochs=10, callbacks=callbacks)\n",
        "model = keras.models.load_model(\"embeddings_bidir_gru.keras\")\n",
        "print(f\"Test acc: {model.evaluate(int_test_ds)[1]:.3f}\")"
      ]
    },
    {
      "cell_type": "markdown",
      "metadata": {
        "id": "c5ikvMpk5ak_"
      },
      "source": [
        "#### Understanding padding and masking"
      ]
    },
    {
      "cell_type": "markdown",
      "metadata": {
        "id": "LYm--D795ak_"
      },
      "source": [
        "**Using an `Embedding` layer with masking enabled**"
      ]
    },
    {
      "cell_type": "code",
      "execution_count": 8,
      "metadata": {
        "colab": {
          "base_uri": "https://localhost:8080/"
        },
        "id": "BG1TmpIm5alA",
        "outputId": "9670f099-67b5-49a3-dd24-88f11c71b71b"
      },
      "outputs": [
        {
          "output_type": "stream",
          "name": "stdout",
          "text": [
            "Model: \"model_2\"\n",
            "_________________________________________________________________\n",
            " Layer (type)                Output Shape              Param #   \n",
            "=================================================================\n",
            " input_3 (InputLayer)        [(None, None)]            0         \n",
            "                                                                 \n",
            " embedding_2 (Embedding)     (None, None, 256)         5120000   \n",
            "                                                                 \n",
            " bidirectional_2 (Bidirectio  (None, 64)               73984     \n",
            " nal)                                                            \n",
            "                                                                 \n",
            " dropout_2 (Dropout)         (None, 64)                0         \n",
            "                                                                 \n",
            " dense_2 (Dense)             (None, 1)                 65        \n",
            "                                                                 \n",
            "=================================================================\n",
            "Total params: 5,194,049\n",
            "Trainable params: 5,194,049\n",
            "Non-trainable params: 0\n",
            "_________________________________________________________________\n",
            "Epoch 1/10\n",
            "625/625 [==============================] - 43s 59ms/step - loss: 0.3884 - accuracy: 0.8234 - val_loss: 0.2879 - val_accuracy: 0.8878\n",
            "Epoch 2/10\n",
            "625/625 [==============================] - 38s 61ms/step - loss: 0.2275 - accuracy: 0.9136 - val_loss: 0.2811 - val_accuracy: 0.8926\n",
            "Epoch 3/10\n",
            "625/625 [==============================] - 37s 59ms/step - loss: 0.1712 - accuracy: 0.9352 - val_loss: 0.3238 - val_accuracy: 0.8806\n",
            "Epoch 4/10\n",
            "625/625 [==============================] - 37s 59ms/step - loss: 0.1237 - accuracy: 0.9551 - val_loss: 0.3495 - val_accuracy: 0.8754\n",
            "Epoch 5/10\n",
            "625/625 [==============================] - 37s 59ms/step - loss: 0.0928 - accuracy: 0.9682 - val_loss: 0.3987 - val_accuracy: 0.8738\n",
            "Epoch 6/10\n",
            "625/625 [==============================] - 38s 60ms/step - loss: 0.0706 - accuracy: 0.9758 - val_loss: 0.4151 - val_accuracy: 0.8816\n",
            "Epoch 7/10\n",
            "625/625 [==============================] - 37s 59ms/step - loss: 0.0511 - accuracy: 0.9826 - val_loss: 0.5950 - val_accuracy: 0.8546\n",
            "Epoch 8/10\n",
            "625/625 [==============================] - 37s 59ms/step - loss: 0.0366 - accuracy: 0.9883 - val_loss: 0.5123 - val_accuracy: 0.8684\n",
            "Epoch 9/10\n",
            "625/625 [==============================] - 37s 59ms/step - loss: 0.0271 - accuracy: 0.9906 - val_loss: 0.6636 - val_accuracy: 0.8656\n",
            "Epoch 10/10\n",
            "625/625 [==============================] - 37s 60ms/step - loss: 0.0184 - accuracy: 0.9938 - val_loss: 0.6122 - val_accuracy: 0.8748\n",
            "782/782 [==============================] - 26s 31ms/step - loss: 0.2982 - accuracy: 0.8802\n",
            "Test acc: 0.880\n"
          ]
        }
      ],
      "source": [
        "inputs = keras.Input(shape=(None,), dtype=\"int64\")\n",
        "embedded = layers.Embedding(\n",
        "    input_dim=max_tokens, output_dim=256, mask_zero=True)(inputs)\n",
        "x = layers.Bidirectional(layers.LSTM(32))(embedded)\n",
        "x = layers.Dropout(0.5)(x)\n",
        "outputs = layers.Dense(1, activation=\"sigmoid\")(x)\n",
        "model = keras.Model(inputs, outputs)\n",
        "model.compile(optimizer=\"rmsprop\",\n",
        "              loss=\"binary_crossentropy\",\n",
        "              metrics=[\"accuracy\"])\n",
        "model.summary()\n",
        "\n",
        "callbacks = [\n",
        "    keras.callbacks.ModelCheckpoint(\"embeddings_bidir_gru_with_masking.keras\",\n",
        "                                    save_best_only=True)\n",
        "]\n",
        "model.fit(int_train_ds, validation_data=int_val_ds, epochs=10, callbacks=callbacks)\n",
        "model = keras.models.load_model(\"embeddings_bidir_gru_with_masking.keras\")\n",
        "print(f\"Test acc: {model.evaluate(int_test_ds)[1]:.3f}\")"
      ]
    },
    {
      "cell_type": "markdown",
      "metadata": {
        "id": "B6c8iZ065alA"
      },
      "source": [
        "#### Using pretrained word embeddings"
      ]
    },
    {
      "cell_type": "code",
      "execution_count": 9,
      "metadata": {
        "colab": {
          "base_uri": "https://localhost:8080/"
        },
        "id": "85aoQgK-5alB",
        "outputId": "d2b3285e-8f43-44a2-b1f0-98dd637365ea"
      },
      "outputs": [
        {
          "output_type": "stream",
          "name": "stdout",
          "text": [
            "--2022-12-13 15:21:23--  http://nlp.stanford.edu/data/glove.6B.zip\n",
            "Resolving nlp.stanford.edu (nlp.stanford.edu)... 171.64.67.140\n",
            "Connecting to nlp.stanford.edu (nlp.stanford.edu)|171.64.67.140|:80... connected.\n",
            "HTTP request sent, awaiting response... 302 Found\n",
            "Location: https://nlp.stanford.edu/data/glove.6B.zip [following]\n",
            "--2022-12-13 15:21:23--  https://nlp.stanford.edu/data/glove.6B.zip\n",
            "Connecting to nlp.stanford.edu (nlp.stanford.edu)|171.64.67.140|:443... connected.\n",
            "HTTP request sent, awaiting response... 301 Moved Permanently\n",
            "Location: https://downloads.cs.stanford.edu/nlp/data/glove.6B.zip [following]\n",
            "--2022-12-13 15:21:24--  https://downloads.cs.stanford.edu/nlp/data/glove.6B.zip\n",
            "Resolving downloads.cs.stanford.edu (downloads.cs.stanford.edu)... 171.64.64.22\n",
            "Connecting to downloads.cs.stanford.edu (downloads.cs.stanford.edu)|171.64.64.22|:443... connected.\n",
            "HTTP request sent, awaiting response... 200 OK\n",
            "Length: 862182613 (822M) [application/zip]\n",
            "Saving to: ‘glove.6B.zip’\n",
            "\n",
            "glove.6B.zip        100%[===================>] 822.24M  5.01MB/s    in 2m 39s  \n",
            "\n",
            "2022-12-13 15:24:04 (5.17 MB/s) - ‘glove.6B.zip’ saved [862182613/862182613]\n",
            "\n"
          ]
        }
      ],
      "source": [
        "!wget http://nlp.stanford.edu/data/glove.6B.zip\n",
        "!unzip -q glove.6B.zip"
      ]
    },
    {
      "cell_type": "markdown",
      "metadata": {
        "id": "RKFtALDf5alB"
      },
      "source": [
        "**Parsing the GloVe word-embeddings file**"
      ]
    },
    {
      "cell_type": "code",
      "execution_count": 10,
      "metadata": {
        "colab": {
          "base_uri": "https://localhost:8080/"
        },
        "id": "Quw57hAk5alB",
        "outputId": "784de718-b039-4b25-fd1e-8df4d414cd71"
      },
      "outputs": [
        {
          "output_type": "stream",
          "name": "stdout",
          "text": [
            "Found 400000 word vectors.\n"
          ]
        }
      ],
      "source": [
        "import numpy as np\n",
        "path_to_glove_file = \"glove.6B.100d.txt\"\n",
        "\n",
        "embeddings_index = {}\n",
        "with open(path_to_glove_file) as f:\n",
        "    for line in f:\n",
        "        word, coefs = line.split(maxsplit=1)\n",
        "        coefs = np.fromstring(coefs, \"f\", sep=\" \")\n",
        "        embeddings_index[word] = coefs\n",
        "\n",
        "print(f\"Found {len(embeddings_index)} word vectors.\")"
      ]
    },
    {
      "cell_type": "markdown",
      "metadata": {
        "id": "AfM89yaE5alB"
      },
      "source": [
        "**Preparing the GloVe word-embeddings matrix**"
      ]
    },
    {
      "cell_type": "code",
      "execution_count": 11,
      "metadata": {
        "id": "pSNarmaJ5alB"
      },
      "outputs": [],
      "source": [
        "embedding_dim = 100\n",
        "\n",
        "vocabulary = text_vectorization.get_vocabulary()\n",
        "word_index = dict(zip(vocabulary, range(len(vocabulary))))\n",
        "\n",
        "embedding_matrix = np.zeros((max_tokens, embedding_dim))\n",
        "for word, i in word_index.items():\n",
        "    if i < max_tokens:\n",
        "        embedding_vector = embeddings_index.get(word)\n",
        "    if embedding_vector is not None:\n",
        "        embedding_matrix[i] = embedding_vector"
      ]
    },
    {
      "cell_type": "code",
      "execution_count": 12,
      "metadata": {
        "id": "CyIs8pnz5alC"
      },
      "outputs": [],
      "source": [
        "embedding_layer = layers.Embedding(\n",
        "    max_tokens,\n",
        "    embedding_dim,\n",
        "    embeddings_initializer=keras.initializers.Constant(embedding_matrix),\n",
        "    trainable=False,\n",
        "    mask_zero=True,\n",
        ")"
      ]
    },
    {
      "cell_type": "markdown",
      "metadata": {
        "id": "eKjxKV-35alC"
      },
      "source": [
        "**Model that uses a pretrained Embedding layer**"
      ]
    },
    {
      "cell_type": "code",
      "execution_count": 13,
      "metadata": {
        "colab": {
          "base_uri": "https://localhost:8080/"
        },
        "id": "SURlLxYI5alC",
        "outputId": "cf520573-19d9-4b00-af56-714e263dd1ed"
      },
      "outputs": [
        {
          "output_type": "stream",
          "name": "stdout",
          "text": [
            "Model: \"model_3\"\n",
            "_________________________________________________________________\n",
            " Layer (type)                Output Shape              Param #   \n",
            "=================================================================\n",
            " input_4 (InputLayer)        [(None, None)]            0         \n",
            "                                                                 \n",
            " embedding_3 (Embedding)     (None, None, 100)         2000000   \n",
            "                                                                 \n",
            " bidirectional_3 (Bidirectio  (None, 64)               34048     \n",
            " nal)                                                            \n",
            "                                                                 \n",
            " dropout_3 (Dropout)         (None, 64)                0         \n",
            "                                                                 \n",
            " dense_3 (Dense)             (None, 1)                 65        \n",
            "                                                                 \n",
            "=================================================================\n",
            "Total params: 2,034,113\n",
            "Trainable params: 34,113\n",
            "Non-trainable params: 2,000,000\n",
            "_________________________________________________________________\n",
            "Epoch 1/10\n",
            "625/625 [==============================] - 42s 55ms/step - loss: 0.5686 - accuracy: 0.6964 - val_loss: 0.4507 - val_accuracy: 0.7994\n",
            "Epoch 2/10\n",
            "625/625 [==============================] - 32s 52ms/step - loss: 0.4405 - accuracy: 0.7980 - val_loss: 0.3981 - val_accuracy: 0.8244\n",
            "Epoch 3/10\n",
            "625/625 [==============================] - 32s 52ms/step - loss: 0.3929 - accuracy: 0.8284 - val_loss: 0.3614 - val_accuracy: 0.8452\n",
            "Epoch 4/10\n",
            "625/625 [==============================] - 34s 54ms/step - loss: 0.3577 - accuracy: 0.8463 - val_loss: 0.3366 - val_accuracy: 0.8564\n",
            "Epoch 5/10\n",
            "625/625 [==============================] - 32s 52ms/step - loss: 0.3307 - accuracy: 0.8611 - val_loss: 0.3304 - val_accuracy: 0.8596\n",
            "Epoch 6/10\n",
            "625/625 [==============================] - 31s 49ms/step - loss: 0.3125 - accuracy: 0.8707 - val_loss: 0.3468 - val_accuracy: 0.8462\n",
            "Epoch 7/10\n",
            "625/625 [==============================] - 33s 52ms/step - loss: 0.2959 - accuracy: 0.8798 - val_loss: 0.3300 - val_accuracy: 0.8612\n",
            "Epoch 8/10\n",
            "625/625 [==============================] - 32s 52ms/step - loss: 0.2764 - accuracy: 0.8878 - val_loss: 0.3141 - val_accuracy: 0.8698\n",
            "Epoch 9/10\n",
            "625/625 [==============================] - 32s 52ms/step - loss: 0.2617 - accuracy: 0.8943 - val_loss: 0.3120 - val_accuracy: 0.8688\n",
            "Epoch 10/10\n",
            "625/625 [==============================] - 32s 52ms/step - loss: 0.2511 - accuracy: 0.8982 - val_loss: 0.3064 - val_accuracy: 0.8728\n",
            "782/782 [==============================] - 33s 39ms/step - loss: 0.2937 - accuracy: 0.8740\n",
            "Test acc: 0.874\n"
          ]
        }
      ],
      "source": [
        "inputs = keras.Input(shape=(None,), dtype=\"int64\")\n",
        "embedded = embedding_layer(inputs)\n",
        "x = layers.Bidirectional(layers.LSTM(32))(embedded)\n",
        "x = layers.Dropout(0.5)(x)\n",
        "outputs = layers.Dense(1, activation=\"sigmoid\")(x)\n",
        "model = keras.Model(inputs, outputs)\n",
        "model.compile(optimizer=\"rmsprop\",\n",
        "              loss=\"binary_crossentropy\",\n",
        "              metrics=[\"accuracy\"])\n",
        "model.summary()\n",
        "\n",
        "callbacks = [\n",
        "    keras.callbacks.ModelCheckpoint(\"glove_embeddings_sequence_model.keras\",\n",
        "                                    save_best_only=True)\n",
        "]\n",
        "model.fit(int_train_ds, validation_data=int_val_ds, epochs=10, callbacks=callbacks)\n",
        "model = keras.models.load_model(\"glove_embeddings_sequence_model.keras\")\n",
        "print(f\"Test acc: {model.evaluate(int_test_ds)[1]:.3f}\")"
      ]
    }
  ],
  "metadata": {
    "colab": {
      "provenance": []
    },
    "kernelspec": {
      "display_name": "Python 3",
      "language": "python",
      "name": "python3"
    },
    "language_info": {
      "codemirror_mode": {
        "name": "ipython",
        "version": 3
      },
      "file_extension": ".py",
      "mimetype": "text/x-python",
      "name": "python",
      "nbconvert_exporter": "python",
      "pygments_lexer": "ipython3",
      "version": "3.7.0"
    },
    "accelerator": "GPU",
    "gpuClass": "standard"
  },
  "nbformat": 4,
  "nbformat_minor": 0
}