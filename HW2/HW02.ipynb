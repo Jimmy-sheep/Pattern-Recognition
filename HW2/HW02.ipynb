{
 "cells": [
  {
   "cell_type": "markdown",
   "metadata": {
    "id": "OcH1xUDm7AW9"
   },
   "source": [
    "This is a companion notebook for the book [Deep Learning with Python, Second Edition](https://www.manning.com/books/deep-learning-with-python-second-edition?a_aid=keras&a_bid=76564dff). For readability, it only contains runnable code blocks and section titles, and omits everything else in the book: text paragraphs, figures, and pseudocode.\n",
    "\n",
    "**If you want to be able to follow what's going on, I recommend reading the notebook side by side with your copy of the book.**\n",
    "\n",
    "This notebook was generated for TensorFlow 2.6."
   ]
  },
  {
   "cell_type": "markdown",
   "metadata": {
    "id": "QoEdOSdB7AXD"
   },
   "source": [
    "# The mathematical building blocks of neural networks"
   ]
  },
  {
   "cell_type": "markdown",
   "metadata": {
    "id": "Vv9rOCcV7AXE"
   },
   "source": [
    "**Loading the MNIST dataset in Keras**"
   ]
  },
  {
   "cell_type": "code",
   "execution_count": 1,
   "metadata": {
    "id": "wmONSdcG7AXF"
   },
   "outputs": [],
   "source": [
    "from tensorflow.keras.datasets import mnist\n",
    "(train_images, train_labels), (test_images, test_labels) = mnist.load_data()"
   ]
  },
  {
   "cell_type": "code",
   "execution_count": 2,
   "metadata": {
    "colab": {
     "base_uri": "https://localhost:8080/"
    },
    "id": "FC2ICYa17AXH",
    "outputId": "474e0bb9-1b9a-4504-92d9-826648b5e807"
   },
   "outputs": [
    {
     "data": {
      "text/plain": [
       "((60000, 28, 28), (60000,), (10000, 28, 28), (10000,))"
      ]
     },
     "execution_count": 2,
     "metadata": {},
     "output_type": "execute_result"
    }
   ],
   "source": [
    "train_images.shape, train_labels.shape, test_images.shape, test_labels.shape"
   ]
  },
  {
   "cell_type": "markdown",
   "metadata": {
    "id": "arORO1tk7AX2"
   },
   "source": [
    "**The network architecture**"
   ]
  },
  {
   "cell_type": "code",
   "execution_count": 3,
   "metadata": {
    "id": "VGPhTyWF7AX2"
   },
   "outputs": [],
   "source": [
    "from tensorflow import keras\n",
    "from keras.models import Sequential\n",
    "from keras.layers import Dense, Dropout\n",
    "from tensorflow.keras.optimizers import Adam, RMSprop\n",
    "import numpy as np\n",
    "import matplotlib.pyplot as plt\n",
    "\n",
    "model = Sequential()\n",
    "\n",
    "model.add(Dense(512, activation = 'relu'))\n",
    "model.add(Dropout(0.1))\n",
    "model.add(Dense(10, activation = 'softmax')) #in defaults its 1000 class\n",
    "\n",
    "model.compile(optimizer = Adam(learning_rate=0.001),\n",
    "              loss = keras.losses.sparse_categorical_crossentropy,\n",
    "              metrics = [\"accuracy\"])"
   ]
  },
  {
   "cell_type": "markdown",
   "metadata": {
    "id": "tUQ9hDhY7AX6"
   },
   "source": [
    "**Preparing the image data**"
   ]
  },
  {
   "cell_type": "code",
   "execution_count": 4,
   "metadata": {
    "id": "YAu_UUnx7AX6"
   },
   "outputs": [],
   "source": [
    "train_images = train_images.reshape((60000, 28 * 28))\n",
    "train_images = train_images.astype(\"float32\") / 255\n",
    "test_images = test_images.reshape((10000, 28 * 28))\n",
    "test_images = test_images.astype(\"float32\") / 255"
   ]
  },
  {
   "cell_type": "markdown",
   "metadata": {
    "id": "oohWyYRg7AX7"
   },
   "source": [
    "**\"Fitting\" the model**"
   ]
  },
  {
   "cell_type": "code",
   "execution_count": 5,
   "metadata": {
    "colab": {
     "base_uri": "https://localhost:8080/"
    },
    "id": "w5Ee7unH7AX8",
    "outputId": "4c2bc2a5-848c-46bd-a3e9-35d19119a00c",
    "scrolled": true
   },
   "outputs": [
    {
     "name": "stdout",
     "output_type": "stream",
     "text": [
      "Epoch 1/16\n",
      "235/235 [==============================] - 3s 9ms/step - loss: 0.3298 - accuracy: 0.9082\n",
      "Epoch 2/16\n",
      "235/235 [==============================] - 2s 9ms/step - loss: 0.1445 - accuracy: 0.9585\n",
      "Epoch 3/16\n",
      "235/235 [==============================] - 2s 9ms/step - loss: 0.0995 - accuracy: 0.9715\n",
      "Epoch 4/16\n",
      "235/235 [==============================] - 2s 9ms/step - loss: 0.0748 - accuracy: 0.9782\n",
      "Epoch 5/16\n",
      "235/235 [==============================] - 2s 8ms/step - loss: 0.0584 - accuracy: 0.9827\n",
      "Epoch 6/16\n",
      "235/235 [==============================] - 2s 9ms/step - loss: 0.0471 - accuracy: 0.9862\n",
      "Epoch 7/16\n",
      "235/235 [==============================] - 2s 10ms/step - loss: 0.0391 - accuracy: 0.9887\n",
      "Epoch 8/16\n",
      "235/235 [==============================] - 2s 9ms/step - loss: 0.0308 - accuracy: 0.9915\n",
      "Epoch 9/16\n",
      "235/235 [==============================] - 2s 8ms/step - loss: 0.0270 - accuracy: 0.9924\n",
      "Epoch 10/16\n",
      "235/235 [==============================] - 2s 8ms/step - loss: 0.0214 - accuracy: 0.9944\n",
      "Epoch 11/16\n",
      "235/235 [==============================] - 2s 8ms/step - loss: 0.0192 - accuracy: 0.9947\n",
      "Epoch 12/16\n",
      "235/235 [==============================] - 2s 8ms/step - loss: 0.0154 - accuracy: 0.9964\n",
      "Epoch 13/16\n",
      "235/235 [==============================] - 2s 8ms/step - loss: 0.0139 - accuracy: 0.9966\n",
      "Epoch 14/16\n",
      "235/235 [==============================] - 2s 8ms/step - loss: 0.0113 - accuracy: 0.9976\n",
      "Epoch 15/16\n",
      "235/235 [==============================] - 2s 8ms/step - loss: 0.0102 - accuracy: 0.9974\n",
      "Epoch 16/16\n",
      "235/235 [==============================] - 2s 8ms/step - loss: 0.0098 - accuracy: 0.9974\n"
     ]
    },
    {
     "data": {
      "text/plain": [
       "<keras.callbacks.History at 0x1cf8db4a6a0>"
      ]
     },
     "execution_count": 5,
     "metadata": {},
     "output_type": "execute_result"
    }
   ],
   "source": [
    "model.fit(train_images, train_labels, epochs=16, batch_size=256)"
   ]
  },
  {
   "cell_type": "markdown",
   "metadata": {
    "id": "v6pN9fZfGhCZ"
   },
   "source": [
    "**Save model and weights**\n"
   ]
  },
  {
   "cell_type": "code",
   "execution_count": 6,
   "metadata": {
    "colab": {
     "base_uri": "https://localhost:8080/"
    },
    "id": "mC3qXpEuGjQU",
    "outputId": "e2cb8a9e-916f-4276-d21e-558ed460b6a0"
   },
   "outputs": [
    {
     "name": "stdout",
     "output_type": "stream",
     "text": [
      "Model: \"sequential\"\n",
      "_________________________________________________________________\n",
      " Layer (type)                Output Shape              Param #   \n",
      "=================================================================\n",
      " dense (Dense)               (None, 512)               401920    \n",
      "                                                                 \n",
      " dropout (Dropout)           (None, 512)               0         \n",
      "                                                                 \n",
      " dense_1 (Dense)             (None, 10)                5130      \n",
      "                                                                 \n",
      "=================================================================\n",
      "Total params: 407,050\n",
      "Trainable params: 407,050\n",
      "Non-trainable params: 0\n",
      "_________________________________________________________________\n"
     ]
    }
   ],
   "source": [
    "model.summary()\n",
    "\n",
    "model.save_weights('./mathematical_weights.h5')"
   ]
  },
  {
   "cell_type": "markdown",
   "metadata": {
    "id": "D-ZKXKpj7AX8"
   },
   "source": [
    "**Using the model to make predictions**"
   ]
  },
  {
   "cell_type": "code",
   "execution_count": 7,
   "metadata": {},
   "outputs": [],
   "source": [
    "def plot_image_labels(images, labels, prediction, index):\n",
    "    plt.figure(figsize=(3, 4))\n",
    "    plt.imshow(np.reshape(images[index], (28, 28)), cmap='binary')\n",
    "    title = \"index=\" + str(index) + \"\\n\"\n",
    "    title += \"label=\" + str(labels[index])\n",
    "    if len(prediction) > 0:\n",
    "        prediction\n",
    "        title += \", predict=\" + str(prediction[index].argmax())\n",
    "    plt.title(title,fontsize=10)\n",
    "    plt.show()"
   ]
  },
  {
   "cell_type": "code",
   "execution_count": 8,
   "metadata": {},
   "outputs": [
    {
     "name": "stdout",
     "output_type": "stream",
     "text": [
      "313/313 [==============================] - 1s 2ms/step\n"
     ]
    },
    {
     "data": {
      "image/png": "[encoded data removed]",
      "text/plain": [
       "<Figure size 300x400 with 1 Axes>"
      ]
     },
     "metadata": {},
     "output_type": "display_data"
    }
   ],
   "source": [
    "prediction=model.predict(test_images)\n",
    "\n",
    "plot_image_labels(test_images, test_labels, prediction, 100)"
   ]
  },
  {
   "cell_type": "markdown",
   "metadata": {},
   "source": [
    "**Evaluating the model on new data**"
   ]
  },
  {
   "cell_type": "code",
   "execution_count": 9,
   "metadata": {},
   "outputs": [
    {
     "name": "stdout",
     "output_type": "stream",
     "text": [
      "313/313 [==============================] - 1s 3ms/step - loss: 0.0650 - accuracy: 0.9805\n",
      "test accuracy: 0.9804999828338623\n"
     ]
    }
   ],
   "source": [
    "test_loss, test_acc = model.evaluate(test_images, test_labels)\n",
    "print(f\"test accuracy: {test_acc}\")"
   ]
  }
 ],
 "metadata": {
  "colab": {
   "collapsed_sections": [],
   "provenance": []
  },
  "kernelspec": {
   "display_name": "Python 3 (ipykernel)",
   "language": "python",
   "name": "python3"
  },
  "language_info": {
   "codemirror_mode": {
    "name": "ipython",
    "version": 3
   },
   "file_extension": ".py",
   "mimetype": "text/x-python",
   "name": "python",
   "nbconvert_exporter": "python",
   "pygments_lexer": "ipython3",
   "version": "3.9.13"
  }
 },
 "nbformat": 4,
 "nbformat_minor": 1
}
