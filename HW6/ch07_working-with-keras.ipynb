{
 "cells": [
  {
   "cell_type": "markdown",
   "metadata": {
    "colab_type": "text"
   },
   "source": [
    "This is a companion notebook for the book [Deep Learning with Python, Second Edition](https://www.manning.com/books/deep-learning-with-python-second-edition?a_aid=keras&a_bid=76564dff). For readability, it only contains runnable code blocks and section titles, and omits everything else in the book: text paragraphs, figures, and pseudocode.\n",
    "\n",
    "**If you want to be able to follow what's going on, I recommend reading the notebook side by side with your copy of the book.**\n",
    "\n",
    "This notebook was generated for TensorFlow 2.6."
   ]
  },
  {
   "cell_type": "markdown",
   "metadata": {
    "colab_type": "text"
   },
   "source": [
    "# Working with Keras: A deep dive"
   ]
  },
  {
   "cell_type": "markdown",
   "metadata": {
    "colab_type": "text"
   },
   "source": [
    "## A spectrum of workflows"
   ]
  },
  {
   "cell_type": "markdown",
   "metadata": {
    "colab_type": "text"
   },
   "source": [
    "## Different ways to build Keras models"
   ]
  },
  {
   "cell_type": "markdown",
   "metadata": {
    "colab_type": "text"
   },
   "source": [
    "### The Sequential model"
   ]
  },
  {
   "cell_type": "markdown",
   "metadata": {
    "colab_type": "text"
   },
   "source": [
    "**The `Sequential` class**"
   ]
  },
  {
   "cell_type": "code",
   "execution_count": 1,
   "metadata": {
    "colab_type": "code"
   },
   "outputs": [],
   "source": [
    "from tensorflow import keras\n",
    "from tensorflow.keras import layers\n",
    "\n",
    "model = keras.Sequential([\n",
    "    layers.Dense(64, activation=\"relu\"),\n",
    "    layers.Dense(10, activation=\"softmax\")\n",
    "])"
   ]
  },
  {
   "cell_type": "markdown",
   "metadata": {
    "colab_type": "text"
   },
   "source": [
    "**Incrementally building a Sequential model**"
   ]
  },
  {
   "cell_type": "code",
   "execution_count": 2,
   "metadata": {
    "colab_type": "code"
   },
   "outputs": [],
   "source": [
    "model = keras.Sequential()\n",
    "model.add(layers.Dense(64, activation=\"relu\"))\n",
    "model.add(layers.Dense(10, activation=\"softmax\"))"
   ]
  },
  {
   "cell_type": "markdown",
   "metadata": {
    "colab_type": "text"
   },
   "source": [
    "**Calling a model for the first time to build it**"
   ]
  },
  {
   "cell_type": "code",
   "execution_count": 3,
   "metadata": {
    "colab_type": "code"
   },
   "outputs": [
    {
     "data": {
      "text/plain": [
       "[<tf.Variable 'dense_2/kernel:0' shape=(3, 64) dtype=float32, numpy=\n",
       " array([[-2.22567588e-01, -2.76085526e-01,  2.45399714e-01,\n",
       "         -2.07733035e-01, -2.57777750e-01,  1.03906900e-01,\n",
       "          1.35404080e-01, -9.47058648e-02, -1.09674558e-01,\n",
       "          8.65522027e-02, -4.93828356e-02, -2.24060684e-01,\n",
       "         -2.95959115e-02, -1.20684817e-01,  3.52280736e-02,\n",
       "         -7.30842352e-02,  2.26247489e-01,  2.10266173e-01,\n",
       "         -2.73334771e-01, -2.20974267e-01, -1.90448612e-01,\n",
       "         -2.88366050e-01,  2.71689594e-02, -1.32561743e-01,\n",
       "          3.21578681e-02,  1.29430294e-01,  2.46021628e-01,\n",
       "         -6.80308491e-02, -4.03880775e-02,  1.17394060e-01,\n",
       "         -5.62394708e-02,  2.00158060e-02,  1.38124406e-01,\n",
       "          1.03734523e-01,  1.72970712e-01,  2.84157574e-01,\n",
       "          1.28166884e-01, -6.91432953e-02, -2.38432124e-01,\n",
       "          5.08289933e-02, -2.78686047e-01, -1.62914097e-02,\n",
       "          2.18066156e-01, -2.37726629e-01,  2.29367077e-01,\n",
       "          1.22645527e-01, -2.24296272e-01,  2.05545008e-01,\n",
       "          2.55211174e-01,  2.90135324e-01, -8.84738863e-02,\n",
       "          2.62576401e-01, -1.80949777e-01, -2.82784104e-02,\n",
       "          1.97977841e-01, -5.88073283e-02,  1.82730764e-01,\n",
       "         -8.12398195e-02, -1.25744641e-01,  8.06120038e-03,\n",
       "         -2.21182168e-01, -9.40427631e-02,  2.81135201e-01,\n",
       "          1.56286359e-03],\n",
       "        [ 1.22807562e-01, -3.62417102e-02, -9.56994444e-02,\n",
       "          2.55076706e-01, -2.44225532e-01, -1.59809604e-01,\n",
       "         -6.63424730e-02, -2.92752773e-01,  1.64940953e-03,\n",
       "          1.97660267e-01,  2.79799581e-01, -1.21075213e-02,\n",
       "         -5.62835634e-02,  3.97965312e-02,  3.10681760e-02,\n",
       "         -2.08257511e-01, -2.06412613e-01, -1.93523914e-01,\n",
       "         -2.72918403e-01,  2.89076865e-02, -9.36545581e-02,\n",
       "         -2.38438681e-01, -1.66698843e-01,  3.21613550e-02,\n",
       "          8.41697752e-02,  2.27649212e-01, -1.97045326e-01,\n",
       "         -2.66966581e-01,  2.91832745e-01, -2.10689396e-01,\n",
       "         -4.11703885e-02, -2.97195792e-01,  2.12439656e-01,\n",
       "         -1.96403205e-01,  1.62436754e-01, -1.33233905e-01,\n",
       "          4.90111113e-02, -2.81356812e-01, -2.77115405e-01,\n",
       "          2.88258731e-01,  9.91135836e-03, -2.91036367e-01,\n",
       "         -2.35297188e-01,  9.69745815e-02,  1.89339668e-01,\n",
       "          2.34509706e-02,  1.15813315e-02,  3.83783579e-02,\n",
       "         -2.20545962e-01,  2.08258629e-04, -1.98413342e-01,\n",
       "         -8.46693516e-02,  2.52700448e-02, -2.62154281e-01,\n",
       "          7.99606442e-02, -1.16196066e-01, -1.45531282e-01,\n",
       "         -2.52370358e-01, -2.92410225e-01,  2.35031545e-01,\n",
       "          6.41160905e-02,  5.99400401e-02, -1.96518600e-02,\n",
       "          2.59807110e-01],\n",
       "        [ 1.76118493e-01, -2.00090408e-02,  2.08425760e-01,\n",
       "         -5.83950132e-02,  2.86851406e-01,  6.12144470e-02,\n",
       "          1.12098217e-01, -1.98754668e-02, -2.88026303e-01,\n",
       "          2.31226325e-01,  1.68476611e-01,  5.46680987e-02,\n",
       "          2.88509369e-01,  2.36429811e-01,  2.73839355e-01,\n",
       "          1.70177609e-01, -8.79250020e-02,  2.58103371e-01,\n",
       "         -4.21421528e-02,  2.42572427e-01, -2.51759827e-01,\n",
       "         -1.03719905e-01,  8.87233913e-02,  1.17697299e-01,\n",
       "         -1.95148051e-01,  1.56686723e-01, -9.12136883e-02,\n",
       "          1.37711227e-01, -2.07078993e-01,  1.06588483e-01,\n",
       "         -7.23465085e-02,  1.84414208e-01,  3.31287384e-02,\n",
       "         -2.51795858e-01,  1.82804525e-01, -4.36642766e-02,\n",
       "         -2.72398204e-01,  1.90629631e-01, -2.62328088e-01,\n",
       "         -1.86441109e-01,  2.13065028e-01, -1.93065926e-01,\n",
       "          2.72566378e-01, -1.42914325e-01, -1.49518028e-01,\n",
       "          2.10605025e-01,  1.62166864e-01, -1.23416290e-01,\n",
       "          3.73507440e-02, -1.10216156e-01,  1.81891650e-01,\n",
       "         -1.31742358e-02, -2.21271425e-01,  2.97156274e-01,\n",
       "          1.99885964e-01, -1.03418961e-01, -8.76716524e-02,\n",
       "         -1.75857246e-02, -9.26030427e-02,  2.45968223e-01,\n",
       "          8.27793479e-02, -2.28603154e-01, -1.18366599e-01,\n",
       "          1.22146577e-01]], dtype=float32)>,\n",
       " <tf.Variable 'dense_2/bias:0' shape=(64,) dtype=float32, numpy=\n",
       " array([0., 0., 0., 0., 0., 0., 0., 0., 0., 0., 0., 0., 0., 0., 0., 0., 0.,\n",
       "        0., 0., 0., 0., 0., 0., 0., 0., 0., 0., 0., 0., 0., 0., 0., 0., 0.,\n",
       "        0., 0., 0., 0., 0., 0., 0., 0., 0., 0., 0., 0., 0., 0., 0., 0., 0.,\n",
       "        0., 0., 0., 0., 0., 0., 0., 0., 0., 0., 0., 0., 0.], dtype=float32)>,\n",
       " <tf.Variable 'dense_3/kernel:0' shape=(64, 10) dtype=float32, numpy=\n",
       " array([[-0.2034797 ,  0.27823707,  0.11094588,  0.02531603, -0.01808858,\n",
       "          0.26059237, -0.06604397,  0.00804466, -0.05289312, -0.14367256],\n",
       "        [-0.03822243, -0.14951813, -0.07162549, -0.23445883,  0.14121395,\n",
       "         -0.01341453, -0.08337219, -0.17144671, -0.15330845, -0.13837782],\n",
       "        [ 0.02218708,  0.2085087 , -0.1223585 ,  0.02759996,  0.23405829,\n",
       "         -0.11748135,  0.1655657 , -0.15169847,  0.14106622,  0.23834947],\n",
       "        [-0.25522116, -0.04278478,  0.22748545, -0.15027645,  0.25318852,\n",
       "         -0.02545989, -0.2843436 , -0.19105735, -0.0289236 ,  0.02582186],\n",
       "        [-0.27605554,  0.05930457,  0.01275474, -0.16179919, -0.0045028 ,\n",
       "          0.26930025,  0.00946605, -0.27070475,  0.14370507, -0.2007325 ],\n",
       "        [ 0.1528804 , -0.2636302 , -0.01430666, -0.1299117 , -0.22822635,\n",
       "         -0.02536994, -0.1452279 ,  0.03428566,  0.11325356, -0.20643267],\n",
       "        [-0.24442902, -0.11967899,  0.2567421 , -0.27771965,  0.00549406,\n",
       "          0.2556189 ,  0.20780158,  0.06379148, -0.09228779, -0.07946748],\n",
       "        [-0.23506719,  0.27908865, -0.07407655, -0.19567436, -0.2691932 ,\n",
       "         -0.10672338,  0.02313808, -0.23567384, -0.02113116, -0.0080224 ],\n",
       "        [-0.01603484,  0.06964576,  0.03106406,  0.13070092, -0.09364164,\n",
       "         -0.049732  , -0.00103265,  0.13972515,  0.20086041, -0.09214556],\n",
       "        [-0.18688849,  0.25416282,  0.05420887,  0.02555805, -0.2432969 ,\n",
       "         -0.14264926,  0.07159948,  0.21279877,  0.17343321,  0.27364746],\n",
       "        [-0.18071805,  0.03897437,  0.02462038, -0.09808762,  0.11389789,\n",
       "         -0.16150999,  0.23502854, -0.14296888, -0.02839351,  0.20721957],\n",
       "        [ 0.14416814,  0.14248326,  0.1973407 ,  0.20845637,  0.15904582,\n",
       "         -0.22383386,  0.0493159 , -0.12869404,  0.20868129, -0.2601328 ],\n",
       "        [ 0.216382  ,  0.04749736, -0.04505302, -0.12958726, -0.19402274,\n",
       "         -0.15333533,  0.15280235,  0.05215761,  0.0594734 , -0.01567954],\n",
       "        [-0.01676074, -0.07246839, -0.13040105,  0.12690464,  0.10563064,\n",
       "         -0.05453353, -0.14227499, -0.07609054, -0.13197832,  0.12507305],\n",
       "        [-0.11001037, -0.12395445, -0.20024893, -0.18025559, -0.03247568,\n",
       "          0.0769541 ,  0.10342202,  0.05217934,  0.03746358,  0.13498002],\n",
       "        [ 0.07579374,  0.0945724 ,  0.11622989,  0.04262   ,  0.04963765,\n",
       "          0.2105633 , -0.2136581 , -0.20349592,  0.24167797,  0.21739945],\n",
       "        [-0.11738876, -0.2304624 , -0.08516616, -0.0340395 , -0.09549338,\n",
       "         -0.03392649, -0.06665009,  0.17885646, -0.08768661,  0.21352321],\n",
       "        [ 0.16956347,  0.13915813,  0.19983411, -0.19377095, -0.04360095,\n",
       "         -0.13421513, -0.16985044, -0.02871484, -0.21028619, -0.17100136],\n",
       "        [-0.23974258,  0.00126845, -0.04978366,  0.13748467, -0.16963224,\n",
       "          0.23378369, -0.12767239, -0.04806194,  0.00336337,  0.18819278],\n",
       "        [-0.12951674, -0.22795269,  0.11677444,  0.07304075, -0.22530916,\n",
       "          0.15728405, -0.1857151 , -0.02085519,  0.18168336, -0.07093288],\n",
       "        [-0.19384155,  0.19875544,  0.0008218 ,  0.2377387 , -0.27485704,\n",
       "          0.26613227,  0.04903513, -0.24715565, -0.09936489, -0.08706658],\n",
       "        [ 0.2312732 , -0.21822438,  0.14739388,  0.09869653, -0.10816751,\n",
       "          0.10401392,  0.23047128, -0.18185914,  0.10853234, -0.0829971 ],\n",
       "        [-0.12022373,  0.22125301,  0.23345104, -0.0471013 ,  0.17531538,\n",
       "          0.28429112, -0.23194823, -0.04313956, -0.04841237,  0.22769132],\n",
       "        [-0.12810098,  0.20914647, -0.0777095 , -0.23395096,  0.03226706,\n",
       "          0.10728538, -0.08735232,  0.02266484,  0.09035906, -0.06758146],\n",
       "        [ 0.2775713 ,  0.23739591,  0.11185268, -0.2548992 , -0.18218555,\n",
       "          0.22946486,  0.24556419,  0.20028442, -0.17253335,  0.18448338],\n",
       "        [-0.18527266, -0.08044325, -0.08339249, -0.06761174,  0.28304508,\n",
       "          0.00831193, -0.11821117,  0.13549632,  0.10479879,  0.01703873],\n",
       "        [-0.05167946,  0.02899235, -0.25866252, -0.16286057,  0.08014786,\n",
       "         -0.2102221 ,  0.25487557, -0.1925078 ,  0.11931694,  0.03411663],\n",
       "        [-0.28058308,  0.26082137,  0.10537517, -0.27446744,  0.07594505,\n",
       "         -0.25623778,  0.06698534,  0.17965898, -0.17849068,  0.20838916],\n",
       "        [ 0.1400288 ,  0.0216184 , -0.17936048, -0.2645831 ,  0.09721899,\n",
       "         -0.17302874,  0.0963451 , -0.28331703,  0.06710562, -0.14420134],\n",
       "        [ 0.18633154,  0.07194707,  0.15609151, -0.25856325,  0.24151465,\n",
       "         -0.05022338,  0.18213475, -0.06613258, -0.11340638, -0.14748466],\n",
       "        [-0.26411754, -0.13540855, -0.24239622,  0.24616262,  0.1478827 ,\n",
       "         -0.02888647,  0.1789822 ,  0.02061546,  0.10411128, -0.0663598 ],\n",
       "        [ 0.11446965, -0.17748666,  0.18632263, -0.1974134 ,  0.02426574,\n",
       "         -0.12295973, -0.10187338, -0.14532918, -0.26566622,  0.1649504 ],\n",
       "        [ 0.20136943,  0.00428563, -0.02520129, -0.09751646, -0.09871566,\n",
       "          0.1253632 ,  0.08052412, -0.24005194, -0.26319587,  0.14468226],\n",
       "        [-0.26457164,  0.23050484,  0.20918515,  0.00935939, -0.1523062 ,\n",
       "         -0.19640511, -0.1195707 ,  0.2166619 , -0.23201829,  0.24345312],\n",
       "        [ 0.21306318,  0.13475212, -0.08350667, -0.08837771,  0.1017985 ,\n",
       "          0.02033576, -0.03217834, -0.2279275 , -0.09904242, -0.27635446],\n",
       "        [-0.05129358, -0.27376187, -0.26630294,  0.21857324,  0.24296466,\n",
       "         -0.08286309,  0.1429027 ,  0.04749051,  0.01515955,  0.11175397],\n",
       "        [ 0.04032969,  0.20202008, -0.15401036, -0.1436932 ,  0.00703013,\n",
       "         -0.19519533, -0.0191538 ,  0.19256455, -0.12420997,  0.09655374],\n",
       "        [ 0.06633759, -0.17871886, -0.19507544,  0.28379014, -0.01011419,\n",
       "         -0.12991415, -0.22735275,  0.23788634,  0.27024886,  0.25612703],\n",
       "        [-0.21386889,  0.16245222,  0.21722963,  0.24706677, -0.07393445,\n",
       "          0.19709235,  0.25875333, -0.12724237,  0.03123447,  0.2588177 ],\n",
       "        [-0.09467673,  0.10386762,  0.2282503 , -0.21426964,  0.23226562,\n",
       "          0.1339828 ,  0.052127  ,  0.10351256,  0.21084261,  0.2796196 ],\n",
       "        [ 0.23545668, -0.279891  ,  0.17343152, -0.04828712, -0.00084841,\n",
       "         -0.05304234,  0.1240539 , -0.02223828, -0.0074999 ,  0.20672268],\n",
       "        [ 0.16176587, -0.20618528, -0.06628262,  0.16243458,  0.20746118,\n",
       "          0.1545189 ,  0.11628142, -0.2319819 , -0.2278998 , -0.05232088],\n",
       "        [ 0.2770376 ,  0.22605065,  0.1035527 , -0.22794855,  0.23593703,\n",
       "         -0.2290417 , -0.25114936, -0.06098047, -0.17780378,  0.1275267 ],\n",
       "        [-0.24983388, -0.20697327,  0.10553363,  0.19607061,  0.21157879,\n",
       "         -0.2666866 , -0.17437437,  0.19221121, -0.10239504, -0.0260601 ],\n",
       "        [-0.07422224, -0.2650796 ,  0.24834976,  0.18796936,  0.27110502,\n",
       "          0.25484845, -0.13525254,  0.12461317,  0.09516343,  0.08093375],\n",
       "        [ 0.24426696,  0.02284616,  0.15603027, -0.25248292, -0.14527792,\n",
       "         -0.06476481,  0.16014373, -0.03547245,  0.07282943, -0.15082873],\n",
       "        [-0.07698058,  0.2809746 , -0.06936993, -0.14125088,  0.0204162 ,\n",
       "         -0.01567498, -0.1642453 ,  0.21425465,  0.26319996, -0.08113702],\n",
       "        [ 0.01922232,  0.2601166 ,  0.00284061, -0.22106051, -0.1907748 ,\n",
       "         -0.05837272, -0.16072935,  0.02121764,  0.11522993, -0.25737315],\n",
       "        [-0.20609865, -0.15758811, -0.2816581 , -0.25244388, -0.00685781,\n",
       "         -0.01595366,  0.00651768,  0.08171237,  0.04205027,  0.16735715],\n",
       "        [-0.02977064, -0.08819149,  0.14045283, -0.18785992,  0.11555529,\n",
       "         -0.2770971 ,  0.28021154, -0.2518239 , -0.253875  , -0.06330153],\n",
       "        [ 0.23690781,  0.1946482 , -0.02034983,  0.09340382, -0.07021122,\n",
       "         -0.08497091,  0.26300105,  0.09856978,  0.02622819,  0.04175124],\n",
       "        [-0.02314752,  0.09140727, -0.23603454,  0.17067671, -0.15607126,\n",
       "         -0.270593  ,  0.13103107, -0.099353  ,  0.26095298, -0.2243913 ],\n",
       "        [ 0.05012855, -0.19635949,  0.03070581,  0.03810918, -0.20894246,\n",
       "          0.25541142, -0.24859823, -0.21827224,  0.21604922,  0.19816276],\n",
       "        [ 0.02454257, -0.2448221 , -0.11461006,  0.1467391 , -0.04426299,\n",
       "          0.25836977, -0.00370479, -0.00352669, -0.03142259,  0.26097968],\n",
       "        [ 0.267664  , -0.10427347, -0.02509573,  0.27642485,  0.08615369,\n",
       "          0.23542598, -0.1724768 , -0.2349509 , -0.06456292,  0.050457  ],\n",
       "        [-0.03504054,  0.04724646, -0.03189006,  0.03592032,  0.18099055,\n",
       "         -0.06993857,  0.05870748, -0.03769296, -0.15543339, -0.16198888],\n",
       "        [-0.01185331,  0.01281095,  0.13570353,  0.1492064 , -0.10242817,\n",
       "         -0.02749914, -0.1328718 , -0.00453627,  0.1388087 ,  0.18919373],\n",
       "        [-0.17063646,  0.0398407 , -0.01069579, -0.2642733 ,  0.21620616,\n",
       "         -0.17871743, -0.08172554,  0.15196988, -0.10454699,  0.23185393],\n",
       "        [-0.00524586, -0.09200299, -0.10811232, -0.15301245, -0.27582923,\n",
       "         -0.05633605, -0.27763358,  0.11962882,  0.16860849, -0.01031065],\n",
       "        [-0.181967  , -0.22709559,  0.24049422,  0.09529671, -0.0956081 ,\n",
       "         -0.18967485,  0.19253829,  0.09248513, -0.09539643,  0.09155336],\n",
       "        [ 0.0300695 ,  0.1943121 ,  0.08730257, -0.19564795,  0.25845054,\n",
       "          0.13324744, -0.126807  ,  0.20156074,  0.22895637, -0.10469893],\n",
       "        [ 0.2753791 , -0.17614959,  0.03607461,  0.2282565 ,  0.00658286,\n",
       "         -0.0916391 , -0.17573059,  0.17394292,  0.05511311,  0.24500111],\n",
       "        [ 0.2303538 ,  0.08769801,  0.21602532, -0.00174996,  0.01226702,\n",
       "          0.12350827,  0.25520757,  0.15339643,  0.12791291,  0.19019076],\n",
       "        [-0.23891047, -0.06151482,  0.17694566, -0.01750287, -0.02374896,\n",
       "         -0.09373036,  0.185696  ,  0.17147985, -0.15609537,  0.24664935]],\n",
       "       dtype=float32)>,\n",
       " <tf.Variable 'dense_3/bias:0' shape=(10,) dtype=float32, numpy=array([0., 0., 0., 0., 0., 0., 0., 0., 0., 0.], dtype=float32)>]"
      ]
     },
     "execution_count": 3,
     "metadata": {},
     "output_type": "execute_result"
    }
   ],
   "source": [
    "model.build(input_shape=(None, 3))\n",
    "model.weights"
   ]
  },
  {
   "cell_type": "markdown",
   "metadata": {
    "colab_type": "text"
   },
   "source": [
    "**The summary method**"
   ]
  },
  {
   "cell_type": "code",
   "execution_count": 4,
   "metadata": {
    "colab_type": "code"
   },
   "outputs": [
    {
     "name": "stdout",
     "output_type": "stream",
     "text": [
      "Model: \"sequential_1\"\n",
      "_________________________________________________________________\n",
      "Layer (type)                 Output Shape              Param #   \n",
      "=================================================================\n",
      "dense_2 (Dense)              (None, 64)                256       \n",
      "_________________________________________________________________\n",
      "dense_3 (Dense)              (None, 10)                650       \n",
      "=================================================================\n",
      "Total params: 906\n",
      "Trainable params: 906\n",
      "Non-trainable params: 0\n",
      "_________________________________________________________________\n"
     ]
    }
   ],
   "source": [
    "model.summary()"
   ]
  },
  {
   "cell_type": "markdown",
   "metadata": {
    "colab_type": "text"
   },
   "source": [
    "**Naming models and layers with the `name` argument**"
   ]
  },
  {
   "cell_type": "code",
   "execution_count": 5,
   "metadata": {
    "colab_type": "code"
   },
   "outputs": [
    {
     "name": "stdout",
     "output_type": "stream",
     "text": [
      "Model: \"my_example_model\"\n",
      "_________________________________________________________________\n",
      "Layer (type)                 Output Shape              Param #   \n",
      "=================================================================\n",
      "my_first_layer (Dense)       (None, 64)                256       \n",
      "_________________________________________________________________\n",
      "my_last_layer (Dense)        (None, 10)                650       \n",
      "=================================================================\n",
      "Total params: 906\n",
      "Trainable params: 906\n",
      "Non-trainable params: 0\n",
      "_________________________________________________________________\n"
     ]
    }
   ],
   "source": [
    "model = keras.Sequential(name=\"my_example_model\")\n",
    "model.add(layers.Dense(64, activation=\"relu\", name=\"my_first_layer\"))\n",
    "model.add(layers.Dense(10, activation=\"softmax\", name=\"my_last_layer\"))\n",
    "model.build((None, 3))\n",
    "model.summary()"
   ]
  },
  {
   "cell_type": "markdown",
   "metadata": {
    "colab_type": "text"
   },
   "source": [
    "**Specifying the input shape of your model in advance**"
   ]
  },
  {
   "cell_type": "code",
   "execution_count": 6,
   "metadata": {
    "colab_type": "code"
   },
   "outputs": [
    {
     "name": "stdout",
     "output_type": "stream",
     "text": [
      "WARNING:tensorflow:Please add `keras.layers.InputLayer` instead of `keras.Input` to Sequential model. `keras.Input` is intended to be used by Functional model.\n"
     ]
    }
   ],
   "source": [
    "model = keras.Sequential()\n",
    "model.add(keras.Input(shape=(3,)))\n",
    "model.add(layers.Dense(64, activation=\"relu\"))"
   ]
  },
  {
   "cell_type": "code",
   "execution_count": 7,
   "metadata": {
    "colab_type": "code"
   },
   "outputs": [
    {
     "name": "stdout",
     "output_type": "stream",
     "text": [
      "Model: \"sequential_2\"\n",
      "_________________________________________________________________\n",
      "Layer (type)                 Output Shape              Param #   \n",
      "=================================================================\n",
      "dense_4 (Dense)              (None, 64)                256       \n",
      "=================================================================\n",
      "Total params: 256\n",
      "Trainable params: 256\n",
      "Non-trainable params: 0\n",
      "_________________________________________________________________\n"
     ]
    }
   ],
   "source": [
    "model.summary()"
   ]
  },
  {
   "cell_type": "code",
   "execution_count": 8,
   "metadata": {
    "colab_type": "code"
   },
   "outputs": [
    {
     "name": "stdout",
     "output_type": "stream",
     "text": [
      "Model: \"sequential_2\"\n",
      "_________________________________________________________________\n",
      "Layer (type)                 Output Shape              Param #   \n",
      "=================================================================\n",
      "dense_4 (Dense)              (None, 64)                256       \n",
      "_________________________________________________________________\n",
      "dense_5 (Dense)              (None, 10)                650       \n",
      "=================================================================\n",
      "Total params: 906\n",
      "Trainable params: 906\n",
      "Non-trainable params: 0\n",
      "_________________________________________________________________\n"
     ]
    }
   ],
   "source": [
    "model.add(layers.Dense(10, activation=\"softmax\"))\n",
    "model.summary()"
   ]
  },
  {
   "cell_type": "markdown",
   "metadata": {
    "colab_type": "text"
   },
   "source": [
    "### The Functional API"
   ]
  },
  {
   "cell_type": "markdown",
   "metadata": {
    "colab_type": "text"
   },
   "source": [
    "#### A simple example"
   ]
  },
  {
   "cell_type": "markdown",
   "metadata": {
    "colab_type": "text"
   },
   "source": [
    "**A simple Functional model with two `Dense` layers**"
   ]
  },
  {
   "cell_type": "code",
   "execution_count": 9,
   "metadata": {
    "colab_type": "code"
   },
   "outputs": [],
   "source": [
    "inputs = keras.Input(shape=(3,), name=\"my_input\")\n",
    "features = layers.Dense(64, activation=\"relu\")(inputs)\n",
    "outputs = layers.Dense(10, activation=\"softmax\")(features)\n",
    "model = keras.Model(inputs=inputs, outputs=outputs)"
   ]
  },
  {
   "cell_type": "code",
   "execution_count": 10,
   "metadata": {
    "colab_type": "code"
   },
   "outputs": [],
   "source": [
    "inputs = keras.Input(shape=(3,), name=\"my_input\")"
   ]
  },
  {
   "cell_type": "code",
   "execution_count": 11,
   "metadata": {
    "colab_type": "code"
   },
   "outputs": [
    {
     "data": {
      "text/plain": [
       "TensorShape([None, 3])"
      ]
     },
     "execution_count": 11,
     "metadata": {},
     "output_type": "execute_result"
    }
   ],
   "source": [
    "inputs.shape"
   ]
  },
  {
   "cell_type": "code",
   "execution_count": 12,
   "metadata": {
    "colab_type": "code"
   },
   "outputs": [
    {
     "data": {
      "text/plain": [
       "tf.float32"
      ]
     },
     "execution_count": 12,
     "metadata": {},
     "output_type": "execute_result"
    }
   ],
   "source": [
    "inputs.dtype"
   ]
  },
  {
   "cell_type": "code",
   "execution_count": 13,
   "metadata": {
    "colab_type": "code"
   },
   "outputs": [],
   "source": [
    "features = layers.Dense(64, activation=\"relu\")(inputs)"
   ]
  },
  {
   "cell_type": "code",
   "execution_count": 14,
   "metadata": {
    "colab_type": "code"
   },
   "outputs": [
    {
     "data": {
      "text/plain": [
       "TensorShape([None, 64])"
      ]
     },
     "execution_count": 14,
     "metadata": {},
     "output_type": "execute_result"
    }
   ],
   "source": [
    "features.shape"
   ]
  },
  {
   "cell_type": "code",
   "execution_count": 15,
   "metadata": {
    "colab_type": "code"
   },
   "outputs": [],
   "source": [
    "outputs = layers.Dense(10, activation=\"softmax\")(features)\n",
    "model = keras.Model(inputs=inputs, outputs=outputs)"
   ]
  },
  {
   "cell_type": "code",
   "execution_count": 16,
   "metadata": {
    "colab_type": "code"
   },
   "outputs": [
    {
     "name": "stdout",
     "output_type": "stream",
     "text": [
      "Model: \"model_1\"\n",
      "_________________________________________________________________\n",
      "Layer (type)                 Output Shape              Param #   \n",
      "=================================================================\n",
      "my_input (InputLayer)        [(None, 3)]               0         \n",
      "_________________________________________________________________\n",
      "dense_8 (Dense)              (None, 64)                256       \n",
      "_________________________________________________________________\n",
      "dense_9 (Dense)              (None, 10)                650       \n",
      "=================================================================\n",
      "Total params: 906\n",
      "Trainable params: 906\n",
      "Non-trainable params: 0\n",
      "_________________________________________________________________\n"
     ]
    }
   ],
   "source": [
    "model.summary()"
   ]
  },
  {
   "cell_type": "markdown",
   "metadata": {
    "colab_type": "text"
   },
   "source": [
    "#### Multi-input, multi-output models"
   ]
  },
  {
   "cell_type": "markdown",
   "metadata": {
    "colab_type": "text"
   },
   "source": [
    "**A multi-input, multi-output Functional model**"
   ]
  },
  {
   "cell_type": "code",
   "execution_count": 17,
   "metadata": {
    "colab_type": "code"
   },
   "outputs": [],
   "source": [
    "vocabulary_size = 10000\n",
    "num_tags = 100\n",
    "num_departments = 4\n",
    "\n",
    "title = keras.Input(shape=(vocabulary_size,), name=\"title\")\n",
    "text_body = keras.Input(shape=(vocabulary_size,), name=\"text_body\")\n",
    "tags = keras.Input(shape=(num_tags,), name=\"tags\")\n",
    "\n",
    "features = layers.Concatenate()([title, text_body, tags])\n",
    "features = layers.Dense(64, activation=\"relu\")(features)\n",
    "\n",
    "priority = layers.Dense(1, activation=\"sigmoid\", name=\"priority\")(features)\n",
    "department = layers.Dense(\n",
    "    num_departments, activation=\"softmax\", name=\"department\")(features)\n",
    "\n",
    "model = keras.Model(inputs=[title, text_body, tags], outputs=[priority, department])"
   ]
  },
  {
   "cell_type": "markdown",
   "metadata": {
    "colab_type": "text"
   },
   "source": [
    "#### Training a multi-input, multi-output model"
   ]
  },
  {
   "cell_type": "markdown",
   "metadata": {
    "colab_type": "text"
   },
   "source": [
    "**Training a model by providing lists of input & target arrays**"
   ]
  },
  {
   "cell_type": "code",
   "execution_count": 18,
   "metadata": {
    "colab_type": "code"
   },
   "outputs": [
    {
     "name": "stdout",
     "output_type": "stream",
     "text": [
      "40/40 [==============================] - 3s 10ms/step - loss: 28.5954 - priority_loss: 0.3334 - department_loss: 28.2620 - priority_mean_absolute_error: 0.5002 - department_accuracy: 0.2766\n",
      "40/40 [==============================] - 0s 6ms/step - loss: 27.0534 - priority_loss: 0.3425 - department_loss: 26.7109 - priority_mean_absolute_error: 0.5071 - department_accuracy: 0.0633\n"
     ]
    }
   ],
   "source": [
    "import numpy as np\n",
    "\n",
    "num_samples = 1280\n",
    "\n",
    "title_data = np.random.randint(0, 2, size=(num_samples, vocabulary_size))\n",
    "text_body_data = np.random.randint(0, 2, size=(num_samples, vocabulary_size))\n",
    "tags_data = np.random.randint(0, 2, size=(num_samples, num_tags))\n",
    "\n",
    "priority_data = np.random.random(size=(num_samples, 1))\n",
    "department_data = np.random.randint(0, 2, size=(num_samples, num_departments))\n",
    "\n",
    "model.compile(optimizer=\"rmsprop\",\n",
    "              loss=[\"mean_squared_error\", \"categorical_crossentropy\"],\n",
    "              metrics=[[\"mean_absolute_error\"], [\"accuracy\"]])\n",
    "model.fit([title_data, text_body_data, tags_data],\n",
    "          [priority_data, department_data],\n",
    "          epochs=1)\n",
    "model.evaluate([title_data, text_body_data, tags_data],\n",
    "               [priority_data, department_data])\n",
    "priority_preds, department_preds = model.predict([title_data, text_body_data, tags_data])"
   ]
  },
  {
   "cell_type": "markdown",
   "metadata": {
    "colab_type": "text"
   },
   "source": [
    "**Training a model by providing dicts of input & target arrays**"
   ]
  },
  {
   "cell_type": "code",
   "execution_count": 19,
   "metadata": {
    "colab_type": "code"
   },
   "outputs": [
    {
     "name": "stdout",
     "output_type": "stream",
     "text": [
      "40/40 [==============================] - 1s 9ms/step - loss: 47.2913 - priority_loss: 0.3425 - department_loss: 46.9488 - priority_mean_absolute_error: 0.5071 - department_accuracy: 0.2688\n",
      "40/40 [==============================] - 0s 6ms/step - loss: 33.7500 - priority_loss: 0.3425 - department_loss: 33.4075 - priority_mean_absolute_error: 0.5071 - department_accuracy: 0.1141\n"
     ]
    }
   ],
   "source": [
    "model.compile(optimizer=\"rmsprop\",\n",
    "              loss={\"priority\": \"mean_squared_error\", \"department\": \"categorical_crossentropy\"},\n",
    "              metrics={\"priority\": [\"mean_absolute_error\"], \"department\": [\"accuracy\"]})\n",
    "model.fit({\"title\": title_data, \"text_body\": text_body_data, \"tags\": tags_data},\n",
    "          {\"priority\": priority_data, \"department\": department_data},\n",
    "          epochs=1)\n",
    "model.evaluate({\"title\": title_data, \"text_body\": text_body_data, \"tags\": tags_data},\n",
    "               {\"priority\": priority_data, \"department\": department_data})\n",
    "priority_preds, department_preds = model.predict(\n",
    "    {\"title\": title_data, \"text_body\": text_body_data, \"tags\": tags_data})"
   ]
  },
  {
   "cell_type": "markdown",
   "metadata": {
    "colab_type": "text"
   },
   "source": [
    "#### The power of the Functional API: Access to layer connectivity"
   ]
  },
  {
   "cell_type": "code",
   "execution_count": 20,
   "metadata": {
    "colab_type": "code"
   },
   "outputs": [
    {
     "name": "stdout",
     "output_type": "stream",
     "text": [
      "('You must install pydot (`pip install pydot`) and install graphviz (see instructions at https://graphviz.gitlab.io/download/) ', 'for plot_model/model_to_dot to work.')\n"
     ]
    }
   ],
   "source": [
    "keras.utils.plot_model(model, \"ticket_classifier.png\")"
   ]
  },
  {
   "cell_type": "code",
   "execution_count": 21,
   "metadata": {
    "colab_type": "code"
   },
   "outputs": [
    {
     "name": "stdout",
     "output_type": "stream",
     "text": [
      "('You must install pydot (`pip install pydot`) and install graphviz (see instructions at https://graphviz.gitlab.io/download/) ', 'for plot_model/model_to_dot to work.')\n"
     ]
    }
   ],
   "source": [
    "keras.utils.plot_model(model, \"ticket_classifier_with_shape_info.png\", show_shapes=True)"
   ]
  },
  {
   "cell_type": "markdown",
   "metadata": {
    "colab_type": "text"
   },
   "source": [
    "**Retrieving the inputs or outputs of a layer in a Functional model**"
   ]
  },
  {
   "cell_type": "code",
   "execution_count": 22,
   "metadata": {
    "colab_type": "code"
   },
   "outputs": [
    {
     "data": {
      "text/plain": [
       "[<tensorflow.python.keras.engine.input_layer.InputLayer at 0x2404e2e5580>,\n",
       " <tensorflow.python.keras.engine.input_layer.InputLayer at 0x2404e2e5520>,\n",
       " <tensorflow.python.keras.engine.input_layer.InputLayer at 0x2404e2e5400>,\n",
       " <tensorflow.python.keras.layers.merge.Concatenate at 0x2404e2d7c40>,\n",
       " <tensorflow.python.keras.layers.core.Dense at 0x2404e2d7f10>,\n",
       " <tensorflow.python.keras.layers.core.Dense at 0x2404e2edb80>,\n",
       " <tensorflow.python.keras.layers.core.Dense at 0x2404e2ed7c0>]"
      ]
     },
     "execution_count": 22,
     "metadata": {},
     "output_type": "execute_result"
    }
   ],
   "source": [
    "model.layers"
   ]
  },
  {
   "cell_type": "code",
   "execution_count": 23,
   "metadata": {
    "colab_type": "code"
   },
   "outputs": [
    {
     "data": {
      "text/plain": [
       "[<KerasTensor: shape=(None, 10000) dtype=float32 (created by layer 'title')>,\n",
       " <KerasTensor: shape=(None, 10000) dtype=float32 (created by layer 'text_body')>,\n",
       " <KerasTensor: shape=(None, 100) dtype=float32 (created by layer 'tags')>]"
      ]
     },
     "execution_count": 23,
     "metadata": {},
     "output_type": "execute_result"
    }
   ],
   "source": [
    "model.layers[3].input"
   ]
  },
  {
   "cell_type": "code",
   "execution_count": 24,
   "metadata": {
    "colab_type": "code"
   },
   "outputs": [
    {
     "data": {
      "text/plain": [
       "<KerasTensor: shape=(None, 20100) dtype=float32 (created by layer 'concatenate')>"
      ]
     },
     "execution_count": 24,
     "metadata": {},
     "output_type": "execute_result"
    }
   ],
   "source": [
    "model.layers[3].output"
   ]
  },
  {
   "cell_type": "markdown",
   "metadata": {
    "colab_type": "text"
   },
   "source": [
    "**Creating a new model by reusing intermediate layer outputs**"
   ]
  },
  {
   "cell_type": "code",
   "execution_count": 25,
   "metadata": {
    "colab_type": "code"
   },
   "outputs": [],
   "source": [
    "features = model.layers[4].output\n",
    "difficulty = layers.Dense(3, activation=\"softmax\", name=\"difficulty\")(features)\n",
    "\n",
    "new_model = keras.Model(\n",
    "    inputs=[title, text_body, tags],\n",
    "    outputs=[priority, department, difficulty])"
   ]
  },
  {
   "cell_type": "code",
   "execution_count": 26,
   "metadata": {
    "colab_type": "code"
   },
   "outputs": [
    {
     "name": "stdout",
     "output_type": "stream",
     "text": [
      "('You must install pydot (`pip install pydot`) and install graphviz (see instructions at https://graphviz.gitlab.io/download/) ', 'for plot_model/model_to_dot to work.')\n"
     ]
    }
   ],
   "source": [
    "keras.utils.plot_model(new_model, \"updated_ticket_classifier.png\", show_shapes=True)"
   ]
  },
  {
   "cell_type": "markdown",
   "metadata": {
    "colab_type": "text"
   },
   "source": [
    "### Subclassing the Model class"
   ]
  },
  {
   "cell_type": "markdown",
   "metadata": {
    "colab_type": "text"
   },
   "source": [
    "#### Rewriting our previous example as a subclassed model"
   ]
  },
  {
   "cell_type": "markdown",
   "metadata": {
    "colab_type": "text"
   },
   "source": [
    "**A simple subclassed model**"
   ]
  },
  {
   "cell_type": "code",
   "execution_count": 27,
   "metadata": {
    "colab_type": "code"
   },
   "outputs": [],
   "source": [
    "class CustomerTicketModel(keras.Model):\n",
    "\n",
    "    def __init__(self, num_departments):\n",
    "        super().__init__()\n",
    "        self.concat_layer = layers.Concatenate()\n",
    "        self.mixing_layer = layers.Dense(64, activation=\"relu\")\n",
    "        self.priority_scorer = layers.Dense(1, activation=\"sigmoid\")\n",
    "        self.department_classifier = layers.Dense(\n",
    "            num_departments, activation=\"softmax\")\n",
    "\n",
    "    def call(self, inputs):\n",
    "        title = inputs[\"title\"]\n",
    "        text_body = inputs[\"text_body\"]\n",
    "        tags = inputs[\"tags\"]\n",
    "\n",
    "        features = self.concat_layer([title, text_body, tags])\n",
    "        features = self.mixing_layer(features)\n",
    "        priority = self.priority_scorer(features)\n",
    "        department = self.department_classifier(features)\n",
    "        return priority, department"
   ]
  },
  {
   "cell_type": "code",
   "execution_count": 28,
   "metadata": {
    "colab_type": "code"
   },
   "outputs": [],
   "source": [
    "model = CustomerTicketModel(num_departments=4)\n",
    "\n",
    "priority, department = model(\n",
    "    {\"title\": title_data, \"text_body\": text_body_data, \"tags\": tags_data})"
   ]
  },
  {
   "cell_type": "code",
   "execution_count": 29,
   "metadata": {
    "colab_type": "code"
   },
   "outputs": [
    {
     "name": "stdout",
     "output_type": "stream",
     "text": [
      "40/40 [==============================] - 1s 9ms/step - loss: 20.3471 - output_1_loss: 0.3278 - output_2_loss: 20.0193 - output_1_mean_absolute_error: 0.4935 - output_2_accuracy: 0.2641\n",
      "40/40 [==============================] - 0s 6ms/step - loss: 8.1561 - output_1_loss: 0.3425 - output_2_loss: 7.8136 - output_1_mean_absolute_error: 0.5071 - output_2_accuracy: 0.3820\n"
     ]
    }
   ],
   "source": [
    "model.compile(optimizer=\"rmsprop\",\n",
    "              loss=[\"mean_squared_error\", \"categorical_crossentropy\"],\n",
    "              metrics=[[\"mean_absolute_error\"], [\"accuracy\"]])\n",
    "model.fit({\"title\": title_data,\n",
    "           \"text_body\": text_body_data,\n",
    "           \"tags\": tags_data},\n",
    "          [priority_data, department_data],\n",
    "          epochs=1)\n",
    "model.evaluate({\"title\": title_data,\n",
    "                \"text_body\": text_body_data,\n",
    "                \"tags\": tags_data},\n",
    "               [priority_data, department_data])\n",
    "priority_preds, department_preds = model.predict({\"title\": title_data,\n",
    "                                                  \"text_body\": text_body_data,\n",
    "                                                  \"tags\": tags_data})"
   ]
  },
  {
   "cell_type": "markdown",
   "metadata": {
    "colab_type": "text"
   },
   "source": [
    "#### Beware: What subclassed models don't support"
   ]
  },
  {
   "cell_type": "markdown",
   "metadata": {
    "colab_type": "text"
   },
   "source": [
    "### Mixing and matching different components"
   ]
  },
  {
   "cell_type": "markdown",
   "metadata": {
    "colab_type": "text"
   },
   "source": [
    "**Creating a Functional model that includes a subclassed model**"
   ]
  },
  {
   "cell_type": "code",
   "execution_count": 30,
   "metadata": {
    "colab_type": "code"
   },
   "outputs": [],
   "source": [
    "class Classifier(keras.Model):\n",
    "\n",
    "    def __init__(self, num_classes=2):\n",
    "        super().__init__()\n",
    "        if num_classes == 2:\n",
    "            num_units = 1\n",
    "            activation = \"sigmoid\"\n",
    "        else:\n",
    "            num_units = num_classes\n",
    "            activation = \"softmax\"\n",
    "        self.dense = layers.Dense(num_units, activation=activation)\n",
    "\n",
    "    def call(self, inputs):\n",
    "        return self.dense(inputs)\n",
    "\n",
    "inputs = keras.Input(shape=(3,))\n",
    "features = layers.Dense(64, activation=\"relu\")(inputs)\n",
    "outputs = Classifier(num_classes=10)(features)\n",
    "model = keras.Model(inputs=inputs, outputs=outputs)"
   ]
  },
  {
   "cell_type": "markdown",
   "metadata": {
    "colab_type": "text"
   },
   "source": [
    "**Creating a subclassed model that includes a Functional model**"
   ]
  },
  {
   "cell_type": "code",
   "execution_count": 31,
   "metadata": {
    "colab_type": "code"
   },
   "outputs": [],
   "source": [
    "inputs = keras.Input(shape=(64,))\n",
    "outputs = layers.Dense(1, activation=\"sigmoid\")(inputs)\n",
    "binary_classifier = keras.Model(inputs=inputs, outputs=outputs)\n",
    "\n",
    "class MyModel(keras.Model):\n",
    "\n",
    "    def __init__(self, num_classes=2):\n",
    "        super().__init__()\n",
    "        self.dense = layers.Dense(64, activation=\"relu\")\n",
    "        self.classifier = binary_classifier\n",
    "\n",
    "    def call(self, inputs):\n",
    "        features = self.dense(inputs)\n",
    "        return self.classifier(features)\n",
    "\n",
    "model = MyModel()"
   ]
  },
  {
   "cell_type": "markdown",
   "metadata": {
    "colab_type": "text"
   },
   "source": [
    "### Remember: Use the right tool for the job"
   ]
  },
  {
   "cell_type": "markdown",
   "metadata": {
    "colab_type": "text"
   },
   "source": [
    "## Using built-in training and evaluation loops"
   ]
  },
  {
   "cell_type": "markdown",
   "metadata": {
    "colab_type": "text"
   },
   "source": [
    "**The standard workflow: `compile()`, `fit()`, `evaluate()`, `predict()`**"
   ]
  },
  {
   "cell_type": "code",
   "execution_count": 32,
   "metadata": {
    "colab_type": "code"
   },
   "outputs": [
    {
     "name": "stdout",
     "output_type": "stream",
     "text": [
      "Epoch 1/3\n",
      "1563/1563 [==============================] - 10s 6ms/step - loss: 0.2969 - accuracy: 0.9119 - val_loss: 0.1562 - val_accuracy: 0.9541\n",
      "Epoch 2/3\n",
      "1563/1563 [==============================] - 9s 6ms/step - loss: 0.1637 - accuracy: 0.9540 - val_loss: 0.1180 - val_accuracy: 0.9668\n",
      "Epoch 3/3\n",
      "1563/1563 [==============================] - 9s 6ms/step - loss: 0.1388 - accuracy: 0.9629 - val_loss: 0.1068 - val_accuracy: 0.9723\n",
      "313/313 [==============================] - 1s 3ms/step - loss: 0.0970 - accuracy: 0.9747\n"
     ]
    }
   ],
   "source": [
    "from tensorflow.keras.datasets import mnist\n",
    "\n",
    "def get_mnist_model():\n",
    "    inputs = keras.Input(shape=(28 * 28,))\n",
    "    features = layers.Dense(512, activation=\"relu\")(inputs)\n",
    "    features = layers.Dropout(0.5)(features)\n",
    "    outputs = layers.Dense(10, activation=\"softmax\")(features)\n",
    "    model = keras.Model(inputs, outputs)\n",
    "    return model\n",
    "\n",
    "(images, labels), (test_images, test_labels) = mnist.load_data()\n",
    "images = images.reshape((60000, 28 * 28)).astype(\"float32\") / 255\n",
    "test_images = test_images.reshape((10000, 28 * 28)).astype(\"float32\") / 255\n",
    "train_images, val_images = images[10000:], images[:10000]\n",
    "train_labels, val_labels = labels[10000:], labels[:10000]\n",
    "\n",
    "model = get_mnist_model()\n",
    "model.compile(optimizer=\"rmsprop\",\n",
    "              loss=\"sparse_categorical_crossentropy\",\n",
    "              metrics=[\"accuracy\"])\n",
    "model.fit(train_images, train_labels,\n",
    "          epochs=3,\n",
    "          validation_data=(val_images, val_labels))\n",
    "test_metrics = model.evaluate(test_images, test_labels)\n",
    "predictions = model.predict(test_images)"
   ]
  },
  {
   "cell_type": "markdown",
   "metadata": {
    "colab_type": "text"
   },
   "source": [
    "### Writing your own metrics"
   ]
  },
  {
   "cell_type": "markdown",
   "metadata": {
    "colab_type": "text"
   },
   "source": [
    "**Implementing a custom metric by subclassing the `Metric` class**"
   ]
  },
  {
   "cell_type": "code",
   "execution_count": 33,
   "metadata": {
    "colab_type": "code"
   },
   "outputs": [],
   "source": [
    "import tensorflow as tf\n",
    "\n",
    "class RootMeanSquaredError(keras.metrics.Metric):\n",
    "\n",
    "    def __init__(self, name=\"rmse\", **kwargs):\n",
    "        super().__init__(name=name, **kwargs)\n",
    "        self.mse_sum = self.add_weight(name=\"mse_sum\", initializer=\"zeros\")\n",
    "        self.total_samples = self.add_weight(\n",
    "            name=\"total_samples\", initializer=\"zeros\", dtype=\"int32\")\n",
    "\n",
    "    def update_state(self, y_true, y_pred, sample_weight=None):\n",
    "        y_true = tf.one_hot(y_true, depth=tf.shape(y_pred)[1])\n",
    "        mse = tf.reduce_sum(tf.square(y_true - y_pred))\n",
    "        self.mse_sum.assign_add(mse)\n",
    "        num_samples = tf.shape(y_pred)[0]\n",
    "        self.total_samples.assign_add(num_samples)\n",
    "\n",
    "    def result(self):\n",
    "        return tf.sqrt(self.mse_sum / tf.cast(self.total_samples, tf.float32))\n",
    "\n",
    "    def reset_state(self):\n",
    "        self.mse_sum.assign(0.)\n",
    "        self.total_samples.assign(0)"
   ]
  },
  {
   "cell_type": "code",
   "execution_count": 34,
   "metadata": {
    "colab_type": "code"
   },
   "outputs": [
    {
     "name": "stdout",
     "output_type": "stream",
     "text": [
      "Epoch 1/3\n",
      "1563/1563 [==============================] - 11s 7ms/step - loss: 0.2927 - accuracy: 0.9126 - rmse: 7.1842 - val_loss: 0.1514 - val_accuracy: 0.9555 - val_rmse: 7.3578\n",
      "Epoch 2/3\n",
      "1563/1563 [==============================] - 11s 7ms/step - loss: 0.1634 - accuracy: 0.9530 - rmse: 7.3541 - val_loss: 0.1219 - val_accuracy: 0.9672 - val_rmse: 7.4075\n",
      "Epoch 3/3\n",
      "1563/1563 [==============================] - 11s 7ms/step - loss: 0.1397 - accuracy: 0.9630 - rmse: 7.3900 - val_loss: 0.1297 - val_accuracy: 0.9686 - val_rmse: 7.4237\n",
      "313/313 [==============================] - 2s 6ms/step - loss: 0.1214 - accuracy: 0.9697 - rmse: 7.4376\n"
     ]
    }
   ],
   "source": [
    "model = get_mnist_model()\n",
    "model.compile(optimizer=\"rmsprop\",\n",
    "              loss=\"sparse_categorical_crossentropy\",\n",
    "              metrics=[\"accuracy\", RootMeanSquaredError()])\n",
    "model.fit(train_images, train_labels,\n",
    "          epochs=3,\n",
    "          validation_data=(val_images, val_labels))\n",
    "test_metrics = model.evaluate(test_images, test_labels)"
   ]
  },
  {
   "cell_type": "markdown",
   "metadata": {
    "colab_type": "text"
   },
   "source": [
    "### Using callbacks"
   ]
  },
  {
   "cell_type": "markdown",
   "metadata": {
    "colab_type": "text"
   },
   "source": [
    "#### The EarlyStopping and ModelCheckpoint callbacks"
   ]
  },
  {
   "cell_type": "markdown",
   "metadata": {
    "colab_type": "text"
   },
   "source": [
    "**Using the `callbacks` argument in the `fit()` method**"
   ]
  },
  {
   "cell_type": "code",
   "execution_count": 35,
   "metadata": {
    "colab_type": "code"
   },
   "outputs": [
    {
     "name": "stdout",
     "output_type": "stream",
     "text": [
      "Epoch 1/10\n",
      "1563/1563 [==============================] - 14s 9ms/step - loss: 0.2936 - accuracy: 0.9132 - val_loss: 0.1500 - val_accuracy: 0.9558\n",
      "Epoch 2/10\n",
      "1563/1563 [==============================] - 11s 7ms/step - loss: 0.1651 - accuracy: 0.9539 - val_loss: 0.1252 - val_accuracy: 0.9658\n",
      "Epoch 3/10\n",
      "1563/1563 [==============================] - 12s 8ms/step - loss: 0.1401 - accuracy: 0.9631 - val_loss: 0.1193 - val_accuracy: 0.9728\n",
      "Epoch 4/10\n",
      "1563/1563 [==============================] - 9s 6ms/step - loss: 0.1269 - accuracy: 0.9686 - val_loss: 0.1037 - val_accuracy: 0.9747\n",
      "Epoch 5/10\n",
      "1563/1563 [==============================] - 9s 5ms/step - loss: 0.1166 - accuracy: 0.9704 - val_loss: 0.1055 - val_accuracy: 0.9749\n",
      "Epoch 6/10\n",
      "1563/1563 [==============================] - 9s 5ms/step - loss: 0.1128 - accuracy: 0.9727 - val_loss: 0.1040 - val_accuracy: 0.9772\n",
      "Epoch 7/10\n",
      "1563/1563 [==============================] - 9s 6ms/step - loss: 0.1029 - accuracy: 0.9753 - val_loss: 0.1085 - val_accuracy: 0.9776\n",
      "Epoch 8/10\n",
      "1563/1563 [==============================] - 10s 6ms/step - loss: 0.1051 - accuracy: 0.9759 - val_loss: 0.1128 - val_accuracy: 0.9771\n",
      "Epoch 9/10\n",
      "1563/1563 [==============================] - 9s 6ms/step - loss: 0.0984 - accuracy: 0.9780 - val_loss: 0.1137 - val_accuracy: 0.9785\n",
      "Epoch 10/10\n",
      "1563/1563 [==============================] - 16s 11ms/step - loss: 0.0926 - accuracy: 0.9791 - val_loss: 0.1160 - val_accuracy: 0.9785\n"
     ]
    },
    {
     "data": {
      "text/plain": [
       "<tensorflow.python.keras.callbacks.History at 0x24132150250>"
      ]
     },
     "execution_count": 35,
     "metadata": {},
     "output_type": "execute_result"
    }
   ],
   "source": [
    "callbacks_list = [\n",
    "    keras.callbacks.EarlyStopping(\n",
    "        monitor=\"val_accuracy\",\n",
    "        patience=2,\n",
    "    ),\n",
    "    keras.callbacks.ModelCheckpoint(\n",
    "        filepath=\"checkpoint_path.keras\",\n",
    "        monitor=\"val_loss\",\n",
    "        save_best_only=True,\n",
    "    )\n",
    "]\n",
    "model = get_mnist_model()\n",
    "model.compile(optimizer=\"rmsprop\",\n",
    "              loss=\"sparse_categorical_crossentropy\",\n",
    "              metrics=[\"accuracy\"])\n",
    "model.fit(train_images, train_labels,\n",
    "          epochs=10,\n",
    "          callbacks=callbacks_list,\n",
    "          validation_data=(val_images, val_labels))"
   ]
  },
  {
   "cell_type": "code",
   "execution_count": 36,
   "metadata": {
    "colab_type": "code"
   },
   "outputs": [],
   "source": [
    "model = keras.models.load_model(\"checkpoint_path.keras\")"
   ]
  },
  {
   "cell_type": "markdown",
   "metadata": {
    "colab_type": "text"
   },
   "source": [
    "### Writing your own callbacks"
   ]
  },
  {
   "cell_type": "markdown",
   "metadata": {
    "colab_type": "text"
   },
   "source": [
    "**Creating a custom callback by subclassing the `Callback` class**"
   ]
  },
  {
   "cell_type": "code",
   "execution_count": 37,
   "metadata": {
    "colab_type": "code"
   },
   "outputs": [],
   "source": [
    "from matplotlib import pyplot as plt\n",
    "\n",
    "class LossHistory(keras.callbacks.Callback):\n",
    "    def on_train_begin(self, logs):\n",
    "        self.per_batch_losses = []\n",
    "\n",
    "    def on_batch_end(self, batch, logs):\n",
    "        self.per_batch_losses.append(logs.get(\"loss\"))\n",
    "\n",
    "    def on_epoch_end(self, epoch, logs):\n",
    "        plt.clf()\n",
    "        plt.plot(range(len(self.per_batch_losses)), self.per_batch_losses,\n",
    "                 label=\"Training loss for each batch\")\n",
    "        plt.xlabel(f\"Batch (epoch {epoch})\")\n",
    "        plt.ylabel(\"Loss\")\n",
    "        plt.legend()\n",
    "        plt.savefig(f\"plot_at_epoch_{epoch}\")\n",
    "        self.per_batch_losses = []"
   ]
  },
  {
   "cell_type": "code",
   "execution_count": 38,
   "metadata": {
    "colab_type": "code"
   },
   "outputs": [
    {
     "name": "stdout",
     "output_type": "stream",
     "text": [
      "Epoch 1/10\n",
      "1563/1563 [==============================] - 13s 8ms/step - loss: 0.2945 - accuracy: 0.9132 - val_loss: 0.1464 - val_accuracy: 0.9576\n",
      "Epoch 2/10\n",
      "1563/1563 [==============================] - 10s 7ms/step - loss: 0.1664 - accuracy: 0.9527 - val_loss: 0.1299 - val_accuracy: 0.9656\n",
      "Epoch 3/10\n",
      "1563/1563 [==============================] - 11s 7ms/step - loss: 0.1364 - accuracy: 0.9625 - val_loss: 0.1149 - val_accuracy: 0.9739\n",
      "Epoch 4/10\n",
      "1563/1563 [==============================] - 10s 7ms/step - loss: 0.1255 - accuracy: 0.9680 - val_loss: 0.1146 - val_accuracy: 0.9716\n",
      "Epoch 5/10\n",
      "1563/1563 [==============================] - 10s 7ms/step - loss: 0.1187 - accuracy: 0.9699 - val_loss: 0.1100 - val_accuracy: 0.9741\n",
      "Epoch 6/10\n",
      "1563/1563 [==============================] - 10s 6ms/step - loss: 0.1073 - accuracy: 0.9732 - val_loss: 0.1121 - val_accuracy: 0.9764\n",
      "Epoch 7/10\n",
      "1563/1563 [==============================] - 10s 6ms/step - loss: 0.1050 - accuracy: 0.9755 - val_loss: 0.1167 - val_accuracy: 0.9750\n",
      "Epoch 8/10\n",
      "1563/1563 [==============================] - 10s 6ms/step - loss: 0.1011 - accuracy: 0.9770 - val_loss: 0.1131 - val_accuracy: 0.9777\n",
      "Epoch 9/10\n",
      "1563/1563 [==============================] - 10s 7ms/step - loss: 0.0964 - accuracy: 0.9777 - val_loss: 0.1196 - val_accuracy: 0.9784\n",
      "Epoch 10/10\n",
      "1563/1563 [==============================] - 10s 6ms/step - loss: 0.0921 - accuracy: 0.9787 - val_loss: 0.1167 - val_accuracy: 0.9784\n"
     ]
    },
    {
     "data": {
      "text/plain": [
       "<tensorflow.python.keras.callbacks.History at 0x2404aef3250>"
      ]
     },
     "execution_count": 38,
     "metadata": {},
     "output_type": "execute_result"
    },
    {
     "data": {
      "image/png": "[encoded data removed]",
      "text/plain": [
       "<Figure size 640x480 with 1 Axes>"
      ]
     },
     "metadata": {},
     "output_type": "display_data"
    }
   ],
   "source": [
    "model = get_mnist_model()\n",
    "model.compile(optimizer=\"rmsprop\",\n",
    "              loss=\"sparse_categorical_crossentropy\",\n",
    "              metrics=[\"accuracy\"])\n",
    "model.fit(train_images, train_labels,\n",
    "          epochs=10,\n",
    "          callbacks=[LossHistory()],\n",
    "          validation_data=(val_images, val_labels))"
   ]
  },
  {
   "cell_type": "markdown",
   "metadata": {
    "colab_type": "text"
   },
   "source": [
    "### Monitoring and visualization with TensorBoard"
   ]
  },
  {
   "cell_type": "code",
   "execution_count": 39,
   "metadata": {
    "colab_type": "code"
   },
   "outputs": [
    {
     "name": "stdout",
     "output_type": "stream",
     "text": [
      "Epoch 1/10\n",
      "1563/1563 [==============================] - 11s 7ms/step - loss: 0.2963 - accuracy: 0.9118 - val_loss: 0.1466 - val_accuracy: 0.9587\n",
      "Epoch 2/10\n",
      "1563/1563 [==============================] - 9s 6ms/step - loss: 0.1685 - accuracy: 0.9528 - val_loss: 0.1268 - val_accuracy: 0.9674\n",
      "Epoch 3/10\n",
      "1563/1563 [==============================] - 10s 6ms/step - loss: 0.1399 - accuracy: 0.9629 - val_loss: 0.1181 - val_accuracy: 0.9675\n",
      "Epoch 4/10\n",
      "1563/1563 [==============================] - 10s 6ms/step - loss: 0.1267 - accuracy: 0.9670 - val_loss: 0.1101 - val_accuracy: 0.9747\n",
      "Epoch 5/10\n",
      "1563/1563 [==============================] - 10s 6ms/step - loss: 0.1181 - accuracy: 0.9708 - val_loss: 0.1036 - val_accuracy: 0.9764\n",
      "Epoch 6/10\n",
      "1563/1563 [==============================] - 9s 6ms/step - loss: 0.1099 - accuracy: 0.9731 - val_loss: 0.1098 - val_accuracy: 0.9755\n",
      "Epoch 7/10\n",
      "1563/1563 [==============================] - 10s 6ms/step - loss: 0.1065 - accuracy: 0.9750 - val_loss: 0.1138 - val_accuracy: 0.9767\n",
      "Epoch 8/10\n",
      "1563/1563 [==============================] - 10s 6ms/step - loss: 0.0990 - accuracy: 0.9773 - val_loss: 0.1213 - val_accuracy: 0.9772\n",
      "Epoch 9/10\n",
      "1563/1563 [==============================] - 10s 6ms/step - loss: 0.0961 - accuracy: 0.9779 - val_loss: 0.1106 - val_accuracy: 0.9790\n",
      "Epoch 10/10\n",
      "1563/1563 [==============================] - 10s 6ms/step - loss: 0.0886 - accuracy: 0.9786 - val_loss: 0.1171 - val_accuracy: 0.9777\n"
     ]
    },
    {
     "data": {
      "text/plain": [
       "<tensorflow.python.keras.callbacks.History at 0x24132b94f40>"
      ]
     },
     "execution_count": 39,
     "metadata": {},
     "output_type": "execute_result"
    }
   ],
   "source": [
    "model = get_mnist_model()\n",
    "model.compile(optimizer=\"rmsprop\",\n",
    "              loss=\"sparse_categorical_crossentropy\",\n",
    "              metrics=[\"accuracy\"])\n",
    "\n",
    "tensorboard = keras.callbacks.TensorBoard(\n",
    "    log_dir=\"/full_path_to_your_log_dir\",\n",
    ")\n",
    "model.fit(train_images, train_labels,\n",
    "          epochs=10,\n",
    "          validation_data=(val_images, val_labels),\n",
    "          callbacks=[tensorboard])"
   ]
  },
  {
   "cell_type": "code",
   "execution_count": 40,
   "metadata": {
    "colab_type": "code"
   },
   "outputs": [
    {
     "data": {
      "text/html": [
       "\n",
       "      <iframe id=\"tensorboard-frame-7c3fb68cd310c8e6\" width=\"100%\" height=\"800\" frameborder=\"0\">\n",
       "      </iframe>\n",
       "      <script>\n",
       "        (function() {\n",
       "          const frame = document.getElementById(\"tensorboard-frame-7c3fb68cd310c8e6\");\n",
       "          const url = new URL(\"/\", window.location);\n",
       "          const port = 6006;\n",
       "          if (port) {\n",
       "            url.port = port;\n",
       "          }\n",
       "          frame.src = url;\n",
       "        })();\n",
       "      </script>\n",
       "    "
      ],
      "text/plain": [
       "<IPython.core.display.HTML object>"
      ]
     },
     "metadata": {},
     "output_type": "display_data"
    }
   ],
   "source": [
    "%load_ext tensorboard\n",
    "%tensorboard --logdir /full_path_to_your_log_dir"
   ]
  },
  {
   "cell_type": "markdown",
   "metadata": {
    "colab_type": "text"
   },
   "source": [
    "## Writing your own training and evaluation loops"
   ]
  },
  {
   "cell_type": "markdown",
   "metadata": {
    "colab_type": "text"
   },
   "source": [
    "### Training versus inference"
   ]
  },
  {
   "cell_type": "markdown",
   "metadata": {
    "colab_type": "text"
   },
   "source": [
    "### Low-level usage of metrics"
   ]
  },
  {
   "cell_type": "code",
   "execution_count": 41,
   "metadata": {
    "colab_type": "code"
   },
   "outputs": [
    {
     "name": "stdout",
     "output_type": "stream",
     "text": [
      "result: 1.00\n"
     ]
    }
   ],
   "source": [
    "metric = keras.metrics.SparseCategoricalAccuracy()\n",
    "targets = [0, 1, 2]\n",
    "predictions = [[1, 0, 0], [0, 1, 0], [0, 0, 1]]\n",
    "metric.update_state(targets, predictions)\n",
    "current_result = metric.result()\n",
    "print(f\"result: {current_result:.2f}\")"
   ]
  },
  {
   "cell_type": "code",
   "execution_count": 42,
   "metadata": {
    "colab_type": "code"
   },
   "outputs": [
    {
     "name": "stdout",
     "output_type": "stream",
     "text": [
      "Mean of values: 2.00\n"
     ]
    }
   ],
   "source": [
    "values = [0, 1, 2, 3, 4]\n",
    "mean_tracker = keras.metrics.Mean()\n",
    "for value in values:\n",
    "    mean_tracker.update_state(value)\n",
    "print(f\"Mean of values: {mean_tracker.result():.2f}\")"
   ]
  },
  {
   "cell_type": "markdown",
   "metadata": {
    "colab_type": "text"
   },
   "source": [
    "### A complete training and evaluation loop"
   ]
  },
  {
   "cell_type": "markdown",
   "metadata": {
    "colab_type": "text"
   },
   "source": [
    "**Writing a step-by-step training loop: the training step function**"
   ]
  },
  {
   "cell_type": "code",
   "execution_count": 43,
   "metadata": {
    "colab_type": "code"
   },
   "outputs": [],
   "source": [
    "model = get_mnist_model()\n",
    "\n",
    "loss_fn = keras.losses.SparseCategoricalCrossentropy()\n",
    "optimizer = keras.optimizers.RMSprop()\n",
    "metrics = [keras.metrics.SparseCategoricalAccuracy()]\n",
    "loss_tracking_metric = keras.metrics.Mean()\n",
    "\n",
    "def train_step(inputs, targets):\n",
    "    with tf.GradientTape() as tape:\n",
    "        predictions = model(inputs, training=True)\n",
    "        loss = loss_fn(targets, predictions)\n",
    "    gradients = tape.gradient(loss, model.trainable_weights)\n",
    "    optimizer.apply_gradients(zip(gradients, model.trainable_weights))\n",
    "\n",
    "    logs = {}\n",
    "    for metric in metrics:\n",
    "        metric.update_state(targets, predictions)\n",
    "        logs[metric.name] = metric.result()\n",
    "\n",
    "    loss_tracking_metric.update_state(loss)\n",
    "    logs[\"loss\"] = loss_tracking_metric.result()\n",
    "    return logs"
   ]
  },
  {
   "cell_type": "markdown",
   "metadata": {
    "colab_type": "text"
   },
   "source": [
    "**Writing a step-by-step training loop: resetting the metrics**"
   ]
  },
  {
   "cell_type": "code",
   "execution_count": 44,
   "metadata": {
    "colab_type": "code"
   },
   "outputs": [],
   "source": [
    "def reset_metrics():\n",
    "    for metric in metrics:\n",
    "        metric.reset_state()\n",
    "    loss_tracking_metric.reset_state()"
   ]
  },
  {
   "cell_type": "markdown",
   "metadata": {
    "colab_type": "text"
   },
   "source": [
    "**Writing a step-by-step training loop: the loop itself**"
   ]
  },
  {
   "cell_type": "code",
   "execution_count": 45,
   "metadata": {
    "colab_type": "code"
   },
   "outputs": [
    {
     "name": "stdout",
     "output_type": "stream",
     "text": [
      "Results at the end of epoch 0\n",
      "...sparse_categorical_accuracy: 0.9138\n",
      "...loss: 0.2914\n",
      "Results at the end of epoch 1\n",
      "...sparse_categorical_accuracy: 0.9536\n",
      "...loss: 0.1641\n",
      "Results at the end of epoch 2\n",
      "...sparse_categorical_accuracy: 0.9630\n",
      "...loss: 0.1386\n"
     ]
    }
   ],
   "source": [
    "training_dataset = tf.data.Dataset.from_tensor_slices((train_images, train_labels))\n",
    "training_dataset = training_dataset.batch(32)\n",
    "epochs = 3\n",
    "for epoch in range(epochs):\n",
    "    reset_metrics()\n",
    "    for inputs_batch, targets_batch in training_dataset:\n",
    "        logs = train_step(inputs_batch, targets_batch)\n",
    "    print(f\"Results at the end of epoch {epoch}\")\n",
    "    for key, value in logs.items():\n",
    "        print(f\"...{key}: {value:.4f}\")"
   ]
  },
  {
   "cell_type": "markdown",
   "metadata": {
    "colab_type": "text"
   },
   "source": [
    "**Writing a step-by-step evaluation loop**"
   ]
  },
  {
   "cell_type": "code",
   "execution_count": 46,
   "metadata": {
    "colab_type": "code"
   },
   "outputs": [
    {
     "name": "stdout",
     "output_type": "stream",
     "text": [
      "Evaluation results:\n",
      "...val_sparse_categorical_accuracy: 0.9678\n",
      "...val_loss: 0.1248\n"
     ]
    }
   ],
   "source": [
    "def test_step(inputs, targets):\n",
    "    predictions = model(inputs, training=False)\n",
    "    loss = loss_fn(targets, predictions)\n",
    "\n",
    "    logs = {}\n",
    "    for metric in metrics:\n",
    "        metric.update_state(targets, predictions)\n",
    "        logs[\"val_\" + metric.name] = metric.result()\n",
    "\n",
    "    loss_tracking_metric.update_state(loss)\n",
    "    logs[\"val_loss\"] = loss_tracking_metric.result()\n",
    "    return logs\n",
    "\n",
    "val_dataset = tf.data.Dataset.from_tensor_slices((val_images, val_labels))\n",
    "val_dataset = val_dataset.batch(32)\n",
    "reset_metrics()\n",
    "for inputs_batch, targets_batch in val_dataset:\n",
    "    logs = test_step(inputs_batch, targets_batch)\n",
    "print(\"Evaluation results:\")\n",
    "for key, value in logs.items():\n",
    "    print(f\"...{key}: {value:.4f}\")"
   ]
  },
  {
   "cell_type": "markdown",
   "metadata": {
    "colab_type": "text"
   },
   "source": [
    "### Make it fast with tf.function"
   ]
  },
  {
   "cell_type": "markdown",
   "metadata": {
    "colab_type": "text"
   },
   "source": [
    "**Adding a `tf.function` decorator to our evaluation-step function**"
   ]
  },
  {
   "cell_type": "code",
   "execution_count": 47,
   "metadata": {
    "colab_type": "code"
   },
   "outputs": [
    {
     "name": "stdout",
     "output_type": "stream",
     "text": [
      "Evaluation results:\n",
      "...val_sparse_categorical_accuracy: 0.9678\n",
      "...val_loss: 0.1248\n"
     ]
    }
   ],
   "source": [
    "@tf.function\n",
    "def test_step(inputs, targets):\n",
    "    predictions = model(inputs, training=False)\n",
    "    loss = loss_fn(targets, predictions)\n",
    "\n",
    "    logs = {}\n",
    "    for metric in metrics:\n",
    "        metric.update_state(targets, predictions)\n",
    "        logs[\"val_\" + metric.name] = metric.result()\n",
    "\n",
    "    loss_tracking_metric.update_state(loss)\n",
    "    logs[\"val_loss\"] = loss_tracking_metric.result()\n",
    "    return logs\n",
    "\n",
    "val_dataset = tf.data.Dataset.from_tensor_slices((val_images, val_labels))\n",
    "val_dataset = val_dataset.batch(32)\n",
    "reset_metrics()\n",
    "for inputs_batch, targets_batch in val_dataset:\n",
    "    logs = test_step(inputs_batch, targets_batch)\n",
    "print(\"Evaluation results:\")\n",
    "for key, value in logs.items():\n",
    "    print(f\"...{key}: {value:.4f}\")"
   ]
  },
  {
   "cell_type": "markdown",
   "metadata": {
    "colab_type": "text"
   },
   "source": [
    "### Leveraging fit() with a custom training loop"
   ]
  },
  {
   "cell_type": "markdown",
   "metadata": {
    "colab_type": "text"
   },
   "source": [
    "**Implementing a custom training step to use with `fit()`**"
   ]
  },
  {
   "cell_type": "code",
   "execution_count": 48,
   "metadata": {
    "colab_type": "code"
   },
   "outputs": [],
   "source": [
    "loss_fn = keras.losses.SparseCategoricalCrossentropy()\n",
    "loss_tracker = keras.metrics.Mean(name=\"loss\")\n",
    "\n",
    "class CustomModel(keras.Model):\n",
    "    def train_step(self, data):\n",
    "        inputs, targets = data\n",
    "        with tf.GradientTape() as tape:\n",
    "            predictions = self(inputs, training=True)\n",
    "            loss = loss_fn(targets, predictions)\n",
    "        gradients = tape.gradient(loss, self.trainable_weights)\n",
    "        self.optimizer.apply_gradients(zip(gradients, self.trainable_weights))\n",
    "\n",
    "        loss_tracker.update_state(loss)\n",
    "        return {\"loss\": loss_tracker.result()}\n",
    "\n",
    "    @property\n",
    "    def metrics(self):\n",
    "        return [loss_tracker]"
   ]
  },
  {
   "cell_type": "code",
   "execution_count": 49,
   "metadata": {
    "colab_type": "code"
   },
   "outputs": [
    {
     "name": "stdout",
     "output_type": "stream",
     "text": [
      "Epoch 1/3\n",
      "1563/1563 [==============================] - 8s 5ms/step - loss: 0.2944\n",
      "Epoch 2/3\n",
      "1563/1563 [==============================] - 7s 4ms/step - loss: 0.1643\n",
      "Epoch 3/3\n",
      "1563/1563 [==============================] - 7s 4ms/step - loss: 0.1398\n"
     ]
    },
    {
     "data": {
      "text/plain": [
       "<tensorflow.python.keras.callbacks.History at 0x24132ecb1c0>"
      ]
     },
     "execution_count": 49,
     "metadata": {},
     "output_type": "execute_result"
    }
   ],
   "source": [
    "inputs = keras.Input(shape=(28 * 28,))\n",
    "features = layers.Dense(512, activation=\"relu\")(inputs)\n",
    "features = layers.Dropout(0.5)(features)\n",
    "outputs = layers.Dense(10, activation=\"softmax\")(features)\n",
    "model = CustomModel(inputs, outputs)\n",
    "\n",
    "model.compile(optimizer=keras.optimizers.RMSprop())\n",
    "model.fit(train_images, train_labels, epochs=3)"
   ]
  },
  {
   "cell_type": "code",
   "execution_count": 50,
   "metadata": {
    "colab_type": "code"
   },
   "outputs": [],
   "source": [
    "class CustomModel(keras.Model):\n",
    "    def train_step(self, data):\n",
    "        inputs, targets = data\n",
    "        with tf.GradientTape() as tape:\n",
    "            predictions = self(inputs, training=True)\n",
    "            loss = self.compiled_loss(targets, predictions)\n",
    "        gradients = tape.gradient(loss, self.trainable_weights)\n",
    "        self.optimizer.apply_gradients(zip(gradients, self.trainable_weights))\n",
    "        self.compiled_metrics.update_state(targets, predictions)\n",
    "        return {m.name: m.result() for m in self.metrics}"
   ]
  },
  {
   "cell_type": "code",
   "execution_count": 51,
   "metadata": {
    "colab_type": "code"
   },
   "outputs": [
    {
     "name": "stdout",
     "output_type": "stream",
     "text": [
      "Epoch 1/3\n",
      "1563/1563 [==============================] - 9s 5ms/step - loss: 0.2969 - sparse_categorical_accuracy: 0.9126\n",
      "Epoch 2/3\n",
      "1563/1563 [==============================] - 9s 5ms/step - loss: 0.1670 - sparse_categorical_accuracy: 0.9537\n",
      "Epoch 3/3\n",
      "1563/1563 [==============================] - 8s 5ms/step - loss: 0.1372 - sparse_categorical_accuracy: 0.9634\n"
     ]
    },
    {
     "data": {
      "text/plain": [
       "<tensorflow.python.keras.callbacks.History at 0x24132fd3df0>"
      ]
     },
     "execution_count": 51,
     "metadata": {},
     "output_type": "execute_result"
    }
   ],
   "source": [
    "inputs = keras.Input(shape=(28 * 28,))\n",
    "features = layers.Dense(512, activation=\"relu\")(inputs)\n",
    "features = layers.Dropout(0.5)(features)\n",
    "outputs = layers.Dense(10, activation=\"softmax\")(features)\n",
    "model = CustomModel(inputs, outputs)\n",
    "\n",
    "model.compile(optimizer=keras.optimizers.RMSprop(),\n",
    "              loss=keras.losses.SparseCategoricalCrossentropy(),\n",
    "              metrics=[keras.metrics.SparseCategoricalAccuracy()])\n",
    "model.fit(train_images, train_labels, epochs=3)"
   ]
  },
  {
   "cell_type": "markdown",
   "metadata": {
    "colab_type": "text"
   },
   "source": [
    "## Summary"
   ]
  }
 ],
 "metadata": {
  "colab": {
   "collapsed_sections": [],
   "name": "chapter07_working-with-keras.i",
   "private_outputs": false,
   "provenance": [],
   "toc_visible": true
  },
  "kernelspec": {
   "display_name": "Python 3 (ipykernel)",
   "language": "python",
   "name": "python3"
  },
  "language_info": {
   "codemirror_mode": {
    "name": "ipython",
    "version": 3
   },
   "file_extension": ".py",
   "mimetype": "text/x-python",
   "name": "python",
   "nbconvert_exporter": "python",
   "pygments_lexer": "ipython3",
   "version": "3.9.12"
  }
 },
 "nbformat": 4,
 "nbformat_minor": 1
}
